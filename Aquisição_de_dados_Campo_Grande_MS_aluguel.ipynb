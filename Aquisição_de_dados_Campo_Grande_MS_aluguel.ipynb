{
  "nbformat": 4,
  "nbformat_minor": 0,
  "metadata": {
    "kernelspec": {
      "display_name": "Python 3",
      "language": "python",
      "name": "python3"
    },
    "language_info": {
      "codemirror_mode": {
        "name": "ipython",
        "version": 3
      },
      "file_extension": ".py",
      "mimetype": "text/x-python",
      "name": "python",
      "nbconvert_exporter": "python",
      "pygments_lexer": "ipython3",
      "version": "3.6.9"
    },
    "colab": {
      "name": "Aquisição de dados Campo Grande - MS - aluguel.ipynb",
      "provenance": [],
      "collapsed_sections": []
    }
  },
  "cells": [
    {
      "cell_type": "code",
      "metadata": {
        "id": "VkzkxlF6dCp3"
      },
      "source": [
        "import requests\n",
        "from bs4 import BeautifulSoup"
      ],
      "execution_count": 1,
      "outputs": []
    },
    {
      "cell_type": "code",
      "metadata": {
        "id": "oLm0NO0XdCqB"
      },
      "source": [
        "url = 'https://www.vivareal.com.br/aluguel/mato-grosso-do-sul/campo-grande/'"
      ],
      "execution_count": 2,
      "outputs": []
    },
    {
      "cell_type": "code",
      "metadata": {
        "id": "KDgs2Nr9dCqC"
      },
      "source": [
        "c = requests.get(url).content\n",
        "soup = BeautifulSoup(c)"
      ],
      "execution_count": 3,
      "outputs": []
    },
    {
      "cell_type": "code",
      "metadata": {
        "colab": {
          "base_uri": "https://localhost:8080/"
        },
        "id": "qaW5v8YidCqD",
        "outputId": "23f58dc4-929e-404c-fa88-0797df72c619"
      },
      "source": [
        "aluguel_tag = soup.find_all('div', {'class':'property-card__price js-property-card-prices js-property-card__price-small'}) \n",
        "len(aluguel_tag)"
      ],
      "execution_count": 4,
      "outputs": [
        {
          "output_type": "execute_result",
          "data": {
            "text/plain": [
              "36"
            ]
          },
          "metadata": {
            "tags": []
          },
          "execution_count": 4
        }
      ]
    },
    {
      "cell_type": "code",
      "metadata": {
        "colab": {
          "base_uri": "https://localhost:8080/"
        },
        "id": "_4URHOEgdCqF",
        "outputId": "64249fa4-f864-4027-9414-912cdcbed529"
      },
      "source": [
        "paginas = ['']\n",
        "for i in range(2,40):\n",
        "    a = '?pagina='+str(i)\n",
        "    print(a)\n",
        "    paginas.append(a)"
      ],
      "execution_count": 5,
      "outputs": [
        {
          "output_type": "stream",
          "text": [
            "?pagina=2\n",
            "?pagina=3\n",
            "?pagina=4\n",
            "?pagina=5\n",
            "?pagina=6\n",
            "?pagina=7\n",
            "?pagina=8\n",
            "?pagina=9\n",
            "?pagina=10\n",
            "?pagina=11\n",
            "?pagina=12\n",
            "?pagina=13\n",
            "?pagina=14\n",
            "?pagina=15\n",
            "?pagina=16\n",
            "?pagina=17\n",
            "?pagina=18\n",
            "?pagina=19\n",
            "?pagina=20\n",
            "?pagina=21\n",
            "?pagina=22\n",
            "?pagina=23\n",
            "?pagina=24\n",
            "?pagina=25\n",
            "?pagina=26\n",
            "?pagina=27\n",
            "?pagina=28\n",
            "?pagina=29\n",
            "?pagina=30\n",
            "?pagina=31\n",
            "?pagina=32\n",
            "?pagina=33\n",
            "?pagina=34\n",
            "?pagina=35\n",
            "?pagina=36\n",
            "?pagina=37\n",
            "?pagina=38\n",
            "?pagina=39\n"
          ],
          "name": "stdout"
        }
      ]
    },
    {
      "cell_type": "code",
      "metadata": {
        "id": "zd7BUSMbdCqH"
      },
      "source": [
        "import pandas as pd\n",
        "def converter_df(aluguel_lista,quartos_lista,endereco_lista,banheiro_lista,vaga_lista,area_lista):\n",
        "    data = {'aluguel':aluguel_lista,\n",
        "           'quartos':quartos_lista,\n",
        "           'endereco':endereco_lista,\n",
        "           'banheiro':banheiro_lista,\n",
        "            'vaga':vaga_lista,\n",
        "            'area':area_lista}\n",
        "    df = pd.DataFrame(data)\n",
        "    return df"
      ],
      "execution_count": 6,
      "outputs": []
    },
    {
      "cell_type": "code",
      "metadata": {
        "id": "bceWFEX2dCqH"
      },
      "source": [
        "def scrap(url):\n",
        "    c = requests.get(url).content\n",
        "    soup = BeautifulSoup(c)\n",
        "    \n",
        "    aluguel_tag = soup.find_all('div', {'class':'property-card__price js-property-card-prices js-property-card__price-small'}) \n",
        "    aluguel_lista = [p.text for p in aluguel_tag] \n",
        "    #print(len(aluguel_lista)) \n",
        "    \n",
        "    quartos_tag = soup.find_all('li', {'class': 'property-card__detail-item property-card__detail-room js-property-detail-rooms'}) \n",
        "    quartos_lista = [en.text for en in quartos_tag] \n",
        "    #print(len(quartos_lista)) \n",
        "    \n",
        "    endereco_tag = soup.find_all('span', {'class': 'property-card__address'}) \n",
        "    endereco_lista = [fg.text for fg in endereco_tag] \n",
        "    #print(len(endereco_lista)) \n",
        "    \n",
        "    banheiro_tag = soup.find_all('li', {'class': 'property-card__detail-item property-card__detail-bathroom js-property-detail-bathroom'}) \n",
        "    banheiro_lista = [yp.text for yp in banheiro_tag] \n",
        "    #print(len(banheiro_lista))\n",
        "\n",
        "    vaga_tag = soup.find_all('li', {'class': 'property-card__detail-item property-card__detail-garage js-property-detail-garages'}) \n",
        "    vaga_lista = [yp.text for yp in vaga_tag] \n",
        "\n",
        "    area_tag = soup.find_all('li', {'class': 'property-card__detail-item property-card__detail-area'}) \n",
        "    area_lista = [yp.text for yp in area_tag] \n",
        "\n",
        "\n",
        "    ### Vamos ter criar uma função para transformar listas em df\n",
        "    df=converter_df(aluguel_lista,quartos_lista,endereco_lista,banheiro_lista,vaga_lista,area_lista)\n",
        "    \n",
        "    return df"
      ],
      "execution_count": 7,
      "outputs": []
    },
    {
      "cell_type": "code",
      "metadata": {
        "id": "4MJhh9IwdCqJ"
      },
      "source": [
        "URL = 'https://www.vivareal.com.br/aluguel/mato-grosso-do-sul/campo-grande/{}'"
      ],
      "execution_count": 8,
      "outputs": []
    },
    {
      "cell_type": "code",
      "metadata": {
        "colab": {
          "base_uri": "https://localhost:8080/"
        },
        "id": "k0wvZSHBdCqK",
        "outputId": "29ed041b-492b-4530-a1c0-2f5fef47189c"
      },
      "source": [
        "df_lista = []\n",
        "for pg in paginas:\n",
        "    url = URL.format(pg)\n",
        "    print('Coletando URL:', url)\n",
        "    try:\n",
        "        df = scrap(url)\n",
        "    except Exception as e:\n",
        "        print('Erro ao coletar dados na url:', url)\n",
        "        print(e)\n",
        "    df_lista.append(df)\n",
        "\n",
        "df_final = pd.concat(df_lista)"
      ],
      "execution_count": 9,
      "outputs": [
        {
          "output_type": "stream",
          "text": [
            "Coletando URL: https://www.vivareal.com.br/aluguel/mato-grosso-do-sul/campo-grande/\n",
            "Coletando URL: https://www.vivareal.com.br/aluguel/mato-grosso-do-sul/campo-grande/?pagina=2\n",
            "Coletando URL: https://www.vivareal.com.br/aluguel/mato-grosso-do-sul/campo-grande/?pagina=3\n",
            "Coletando URL: https://www.vivareal.com.br/aluguel/mato-grosso-do-sul/campo-grande/?pagina=4\n",
            "Coletando URL: https://www.vivareal.com.br/aluguel/mato-grosso-do-sul/campo-grande/?pagina=5\n",
            "Coletando URL: https://www.vivareal.com.br/aluguel/mato-grosso-do-sul/campo-grande/?pagina=6\n",
            "Coletando URL: https://www.vivareal.com.br/aluguel/mato-grosso-do-sul/campo-grande/?pagina=7\n",
            "Coletando URL: https://www.vivareal.com.br/aluguel/mato-grosso-do-sul/campo-grande/?pagina=8\n",
            "Coletando URL: https://www.vivareal.com.br/aluguel/mato-grosso-do-sul/campo-grande/?pagina=9\n",
            "Coletando URL: https://www.vivareal.com.br/aluguel/mato-grosso-do-sul/campo-grande/?pagina=10\n",
            "Coletando URL: https://www.vivareal.com.br/aluguel/mato-grosso-do-sul/campo-grande/?pagina=11\n",
            "Coletando URL: https://www.vivareal.com.br/aluguel/mato-grosso-do-sul/campo-grande/?pagina=12\n",
            "Coletando URL: https://www.vivareal.com.br/aluguel/mato-grosso-do-sul/campo-grande/?pagina=13\n",
            "Coletando URL: https://www.vivareal.com.br/aluguel/mato-grosso-do-sul/campo-grande/?pagina=14\n",
            "Coletando URL: https://www.vivareal.com.br/aluguel/mato-grosso-do-sul/campo-grande/?pagina=15\n",
            "Coletando URL: https://www.vivareal.com.br/aluguel/mato-grosso-do-sul/campo-grande/?pagina=16\n",
            "Coletando URL: https://www.vivareal.com.br/aluguel/mato-grosso-do-sul/campo-grande/?pagina=17\n",
            "Coletando URL: https://www.vivareal.com.br/aluguel/mato-grosso-do-sul/campo-grande/?pagina=18\n",
            "Coletando URL: https://www.vivareal.com.br/aluguel/mato-grosso-do-sul/campo-grande/?pagina=19\n",
            "Coletando URL: https://www.vivareal.com.br/aluguel/mato-grosso-do-sul/campo-grande/?pagina=20\n",
            "Coletando URL: https://www.vivareal.com.br/aluguel/mato-grosso-do-sul/campo-grande/?pagina=21\n",
            "Coletando URL: https://www.vivareal.com.br/aluguel/mato-grosso-do-sul/campo-grande/?pagina=22\n",
            "Coletando URL: https://www.vivareal.com.br/aluguel/mato-grosso-do-sul/campo-grande/?pagina=23\n",
            "Coletando URL: https://www.vivareal.com.br/aluguel/mato-grosso-do-sul/campo-grande/?pagina=24\n",
            "Coletando URL: https://www.vivareal.com.br/aluguel/mato-grosso-do-sul/campo-grande/?pagina=25\n",
            "Coletando URL: https://www.vivareal.com.br/aluguel/mato-grosso-do-sul/campo-grande/?pagina=26\n",
            "Coletando URL: https://www.vivareal.com.br/aluguel/mato-grosso-do-sul/campo-grande/?pagina=27\n",
            "Coletando URL: https://www.vivareal.com.br/aluguel/mato-grosso-do-sul/campo-grande/?pagina=28\n",
            "Coletando URL: https://www.vivareal.com.br/aluguel/mato-grosso-do-sul/campo-grande/?pagina=29\n",
            "Coletando URL: https://www.vivareal.com.br/aluguel/mato-grosso-do-sul/campo-grande/?pagina=30\n",
            "Coletando URL: https://www.vivareal.com.br/aluguel/mato-grosso-do-sul/campo-grande/?pagina=31\n",
            "Coletando URL: https://www.vivareal.com.br/aluguel/mato-grosso-do-sul/campo-grande/?pagina=32\n",
            "Coletando URL: https://www.vivareal.com.br/aluguel/mato-grosso-do-sul/campo-grande/?pagina=33\n",
            "Coletando URL: https://www.vivareal.com.br/aluguel/mato-grosso-do-sul/campo-grande/?pagina=34\n",
            "Coletando URL: https://www.vivareal.com.br/aluguel/mato-grosso-do-sul/campo-grande/?pagina=35\n",
            "Coletando URL: https://www.vivareal.com.br/aluguel/mato-grosso-do-sul/campo-grande/?pagina=36\n",
            "Coletando URL: https://www.vivareal.com.br/aluguel/mato-grosso-do-sul/campo-grande/?pagina=37\n",
            "Coletando URL: https://www.vivareal.com.br/aluguel/mato-grosso-do-sul/campo-grande/?pagina=38\n",
            "Coletando URL: https://www.vivareal.com.br/aluguel/mato-grosso-do-sul/campo-grande/?pagina=39\n"
          ],
          "name": "stdout"
        }
      ]
    },
    {
      "cell_type": "code",
      "metadata": {
        "colab": {
          "base_uri": "https://localhost:8080/",
          "height": 204
        },
        "id": "nePJqmrDdCqK",
        "outputId": "175a478e-e071-49f2-d252-547f355cf5a6"
      },
      "source": [
        "df_final.head()"
      ],
      "execution_count": 10,
      "outputs": [
        {
          "output_type": "execute_result",
          "data": {
            "text/html": [
              "<div>\n",
              "<style scoped>\n",
              "    .dataframe tbody tr th:only-of-type {\n",
              "        vertical-align: middle;\n",
              "    }\n",
              "\n",
              "    .dataframe tbody tr th {\n",
              "        vertical-align: top;\n",
              "    }\n",
              "\n",
              "    .dataframe thead th {\n",
              "        text-align: right;\n",
              "    }\n",
              "</style>\n",
              "<table border=\"1\" class=\"dataframe\">\n",
              "  <thead>\n",
              "    <tr style=\"text-align: right;\">\n",
              "      <th></th>\n",
              "      <th>aluguel</th>\n",
              "      <th>quartos</th>\n",
              "      <th>endereco</th>\n",
              "      <th>banheiro</th>\n",
              "      <th>vaga</th>\n",
              "      <th>area</th>\n",
              "    </tr>\n",
              "  </thead>\n",
              "  <tbody>\n",
              "    <tr>\n",
              "      <th>0</th>\n",
              "      <td>R$ 400 /Mês</td>\n",
              "      <td>1   Quarto</td>\n",
              "      <td>Avenida Tamandaré, 3192 - Vila Nasser, Campo G...</td>\n",
              "      <td>1   Banheiro</td>\n",
              "      <td>--   Vaga</td>\n",
              "      <td>17   m²</td>\n",
              "    </tr>\n",
              "    <tr>\n",
              "      <th>1</th>\n",
              "      <td>R$ 5.900 /Mês</td>\n",
              "      <td>3   Quartos</td>\n",
              "      <td>Avenida Bom Pastor, 1473 - Vila Vilas Boas, Ca...</td>\n",
              "      <td>3   Banheiros</td>\n",
              "      <td>1   Vaga</td>\n",
              "      <td>210   m²</td>\n",
              "    </tr>\n",
              "    <tr>\n",
              "      <th>2</th>\n",
              "      <td>R$ 60.000 /Mês    R$ 8.000.000</td>\n",
              "      <td>--   Quarto</td>\n",
              "      <td>Rua Marechal Rondon, 1518 - Centro, Campo Gran...</td>\n",
              "      <td>--   Banheiro</td>\n",
              "      <td>--   Vaga</td>\n",
              "      <td>2540   m²</td>\n",
              "    </tr>\n",
              "    <tr>\n",
              "      <th>3</th>\n",
              "      <td>R$ 1.400 /Mês    R$ 310.000</td>\n",
              "      <td>3   Quartos</td>\n",
              "      <td>Rua Doutor Werneck - UFMS, Campo Grande - MS</td>\n",
              "      <td>2   Banheiros</td>\n",
              "      <td>1   Vaga</td>\n",
              "      <td>66   m²</td>\n",
              "    </tr>\n",
              "    <tr>\n",
              "      <th>4</th>\n",
              "      <td>R$ 3.000 /Mês    R$ 650.000</td>\n",
              "      <td>2   Quartos</td>\n",
              "      <td>Avenida Três Barras, 859 - Vila Vilas Boas, Ca...</td>\n",
              "      <td>1   Banheiro</td>\n",
              "      <td>2   Vagas</td>\n",
              "      <td>150   m²</td>\n",
              "    </tr>\n",
              "  </tbody>\n",
              "</table>\n",
              "</div>"
            ],
            "text/plain": [
              "                                aluguel  ...           area\n",
              "0                         R$ 400 /Mês    ...      17   m²  \n",
              "1                       R$ 5.900 /Mês    ...     210   m²  \n",
              "2     R$ 60.000 /Mês    R$ 8.000.000     ...    2540   m²  \n",
              "3        R$ 1.400 /Mês    R$ 310.000     ...      66   m²  \n",
              "4        R$ 3.000 /Mês    R$ 650.000     ...     150   m²  \n",
              "\n",
              "[5 rows x 6 columns]"
            ]
          },
          "metadata": {
            "tags": []
          },
          "execution_count": 10
        }
      ]
    },
    {
      "cell_type": "code",
      "metadata": {
        "id": "YqeRe_Dj63X7"
      },
      "source": [
        "df_final.to_csv('aluguel.csv')"
      ],
      "execution_count": 11,
      "outputs": []
    },
    {
      "cell_type": "code",
      "metadata": {
        "colab": {
          "base_uri": "https://localhost:8080/",
          "height": 204
        },
        "id": "EiOktWdmdCqL",
        "outputId": "b09ad1ab-51ad-479b-f195-f41cabc3192f"
      },
      "source": [
        "df_final['bairro'] = df_final.endereco.str.split('\\s-').str[1]\n",
        "df_final['rua'] = df_final.endereco.str.split('\\s-').str[0]\n",
        "df_final['bairro'] = df_final.bairro.str.split(',').str[0]\n",
        "\n",
        "df_final.head()"
      ],
      "execution_count": 12,
      "outputs": [
        {
          "output_type": "execute_result",
          "data": {
            "text/html": [
              "<div>\n",
              "<style scoped>\n",
              "    .dataframe tbody tr th:only-of-type {\n",
              "        vertical-align: middle;\n",
              "    }\n",
              "\n",
              "    .dataframe tbody tr th {\n",
              "        vertical-align: top;\n",
              "    }\n",
              "\n",
              "    .dataframe thead th {\n",
              "        text-align: right;\n",
              "    }\n",
              "</style>\n",
              "<table border=\"1\" class=\"dataframe\">\n",
              "  <thead>\n",
              "    <tr style=\"text-align: right;\">\n",
              "      <th></th>\n",
              "      <th>aluguel</th>\n",
              "      <th>quartos</th>\n",
              "      <th>endereco</th>\n",
              "      <th>banheiro</th>\n",
              "      <th>vaga</th>\n",
              "      <th>area</th>\n",
              "      <th>bairro</th>\n",
              "      <th>rua</th>\n",
              "    </tr>\n",
              "  </thead>\n",
              "  <tbody>\n",
              "    <tr>\n",
              "      <th>0</th>\n",
              "      <td>R$ 400 /Mês</td>\n",
              "      <td>1   Quarto</td>\n",
              "      <td>Avenida Tamandaré, 3192 - Vila Nasser, Campo G...</td>\n",
              "      <td>1   Banheiro</td>\n",
              "      <td>--   Vaga</td>\n",
              "      <td>17   m²</td>\n",
              "      <td>Vila Nasser</td>\n",
              "      <td>Avenida Tamandaré, 3192</td>\n",
              "    </tr>\n",
              "    <tr>\n",
              "      <th>1</th>\n",
              "      <td>R$ 5.900 /Mês</td>\n",
              "      <td>3   Quartos</td>\n",
              "      <td>Avenida Bom Pastor, 1473 - Vila Vilas Boas, Ca...</td>\n",
              "      <td>3   Banheiros</td>\n",
              "      <td>1   Vaga</td>\n",
              "      <td>210   m²</td>\n",
              "      <td>Vila Vilas Boas</td>\n",
              "      <td>Avenida Bom Pastor, 1473</td>\n",
              "    </tr>\n",
              "    <tr>\n",
              "      <th>2</th>\n",
              "      <td>R$ 60.000 /Mês    R$ 8.000.000</td>\n",
              "      <td>--   Quarto</td>\n",
              "      <td>Rua Marechal Rondon, 1518 - Centro, Campo Gran...</td>\n",
              "      <td>--   Banheiro</td>\n",
              "      <td>--   Vaga</td>\n",
              "      <td>2540   m²</td>\n",
              "      <td>Centro</td>\n",
              "      <td>Rua Marechal Rondon, 1518</td>\n",
              "    </tr>\n",
              "    <tr>\n",
              "      <th>3</th>\n",
              "      <td>R$ 1.400 /Mês    R$ 310.000</td>\n",
              "      <td>3   Quartos</td>\n",
              "      <td>Rua Doutor Werneck - UFMS, Campo Grande - MS</td>\n",
              "      <td>2   Banheiros</td>\n",
              "      <td>1   Vaga</td>\n",
              "      <td>66   m²</td>\n",
              "      <td>UFMS</td>\n",
              "      <td>Rua Doutor Werneck</td>\n",
              "    </tr>\n",
              "    <tr>\n",
              "      <th>4</th>\n",
              "      <td>R$ 3.000 /Mês    R$ 650.000</td>\n",
              "      <td>2   Quartos</td>\n",
              "      <td>Avenida Três Barras, 859 - Vila Vilas Boas, Ca...</td>\n",
              "      <td>1   Banheiro</td>\n",
              "      <td>2   Vagas</td>\n",
              "      <td>150   m²</td>\n",
              "      <td>Vila Vilas Boas</td>\n",
              "      <td>Avenida Três Barras, 859</td>\n",
              "    </tr>\n",
              "  </tbody>\n",
              "</table>\n",
              "</div>"
            ],
            "text/plain": [
              "                                aluguel  ...                        rua\n",
              "0                         R$ 400 /Mês    ...    Avenida Tamandaré, 3192\n",
              "1                       R$ 5.900 /Mês    ...   Avenida Bom Pastor, 1473\n",
              "2     R$ 60.000 /Mês    R$ 8.000.000     ...  Rua Marechal Rondon, 1518\n",
              "3        R$ 1.400 /Mês    R$ 310.000     ...         Rua Doutor Werneck\n",
              "4        R$ 3.000 /Mês    R$ 650.000     ...   Avenida Três Barras, 859\n",
              "\n",
              "[5 rows x 8 columns]"
            ]
          },
          "metadata": {
            "tags": []
          },
          "execution_count": 12
        }
      ]
    },
    {
      "cell_type": "code",
      "metadata": {
        "id": "WSlvZjBZdCqM"
      },
      "source": [
        "import pandas as pd"
      ],
      "execution_count": 13,
      "outputs": []
    },
    {
      "cell_type": "code",
      "metadata": {
        "id": "T3MShZbI7-d4"
      },
      "source": [
        "aluguel = pd.read_csv('aluguel.csv',dtype = str)"
      ],
      "execution_count": 14,
      "outputs": []
    },
    {
      "cell_type": "code",
      "metadata": {
        "colab": {
          "base_uri": "https://localhost:8080/"
        },
        "id": "3B0I9tB58fmg",
        "outputId": "14d5addb-aac4-4845-e5be-48011f62eb48"
      },
      "source": [
        "aluguel.head"
      ],
      "execution_count": 15,
      "outputs": [
        {
          "output_type": "execute_result",
          "data": {
            "text/plain": [
              "<bound method NDFrame.head of      Unnamed: 0  ...           area\n",
              "0             0  ...      17   m²  \n",
              "1             1  ...     210   m²  \n",
              "2             2  ...    2540   m²  \n",
              "3             3  ...      66   m²  \n",
              "4             4  ...     150   m²  \n",
              "...         ...  ...            ...\n",
              "1399         31  ...     223   m²  \n",
              "1400         32  ...     114   m²  \n",
              "1401         33  ...     135   m²  \n",
              "1402         34  ...      90   m²  \n",
              "1403         35  ...      62   m²  \n",
              "\n",
              "[1404 rows x 7 columns]>"
            ]
          },
          "metadata": {
            "tags": []
          },
          "execution_count": 15
        }
      ]
    },
    {
      "cell_type": "code",
      "metadata": {
        "colab": {
          "base_uri": "https://localhost:8080/"
        },
        "id": "jTfHU0IA8nte",
        "outputId": "4770e1fb-a499-4046-f342-9979b11ff965"
      },
      "source": [
        "aluguel.shape"
      ],
      "execution_count": 16,
      "outputs": [
        {
          "output_type": "execute_result",
          "data": {
            "text/plain": [
              "(1404, 7)"
            ]
          },
          "metadata": {
            "tags": []
          },
          "execution_count": 16
        }
      ]
    },
    {
      "cell_type": "code",
      "metadata": {
        "colab": {
          "base_uri": "https://localhost:8080/"
        },
        "id": "QJyB58xBhMXJ",
        "outputId": "be94655f-2fbb-49ee-8775-89b65f17a160"
      },
      "source": [
        "aluguel.aluguel"
      ],
      "execution_count": 17,
      "outputs": [
        {
          "output_type": "execute_result",
          "data": {
            "text/plain": [
              "0                              R$ 400 /Mês  \n",
              "1                            R$ 5.900 /Mês  \n",
              "2          R$ 60.000 /Mês    R$ 8.000.000   \n",
              "3             R$ 1.400 /Mês    R$ 310.000   \n",
              "4             R$ 3.000 /Mês    R$ 650.000   \n",
              "                        ...                 \n",
              "1399                         R$ 5.500 /Mês  \n",
              "1400                         R$ 1.500 /Mês  \n",
              "1401                         R$ 2.800 /Mês  \n",
              "1402                         R$ 1.300 /Mês  \n",
              "1403                         R$ 2.000 /Mês  \n",
              "Name: aluguel, Length: 1404, dtype: object"
            ]
          },
          "metadata": {
            "tags": []
          },
          "execution_count": 17
        }
      ]
    },
    {
      "cell_type": "code",
      "metadata": {
        "colab": {
          "base_uri": "https://localhost:8080/",
          "height": 111
        },
        "id": "_0pq2rTw9Iok",
        "outputId": "821ca25c-f792-4123-ccea-f0d326d5206a"
      },
      "source": [
        "aluguel.head(2)"
      ],
      "execution_count": 18,
      "outputs": [
        {
          "output_type": "execute_result",
          "data": {
            "text/html": [
              "<div>\n",
              "<style scoped>\n",
              "    .dataframe tbody tr th:only-of-type {\n",
              "        vertical-align: middle;\n",
              "    }\n",
              "\n",
              "    .dataframe tbody tr th {\n",
              "        vertical-align: top;\n",
              "    }\n",
              "\n",
              "    .dataframe thead th {\n",
              "        text-align: right;\n",
              "    }\n",
              "</style>\n",
              "<table border=\"1\" class=\"dataframe\">\n",
              "  <thead>\n",
              "    <tr style=\"text-align: right;\">\n",
              "      <th></th>\n",
              "      <th>Unnamed: 0</th>\n",
              "      <th>aluguel</th>\n",
              "      <th>quartos</th>\n",
              "      <th>endereco</th>\n",
              "      <th>banheiro</th>\n",
              "      <th>vaga</th>\n",
              "      <th>area</th>\n",
              "    </tr>\n",
              "  </thead>\n",
              "  <tbody>\n",
              "    <tr>\n",
              "      <th>0</th>\n",
              "      <td>0</td>\n",
              "      <td>R$ 400 /Mês</td>\n",
              "      <td>1   Quarto</td>\n",
              "      <td>Avenida Tamandaré, 3192 - Vila Nasser, Campo G...</td>\n",
              "      <td>1   Banheiro</td>\n",
              "      <td>--   Vaga</td>\n",
              "      <td>17   m²</td>\n",
              "    </tr>\n",
              "    <tr>\n",
              "      <th>1</th>\n",
              "      <td>1</td>\n",
              "      <td>R$ 5.900 /Mês</td>\n",
              "      <td>3   Quartos</td>\n",
              "      <td>Avenida Bom Pastor, 1473 - Vila Vilas Boas, Ca...</td>\n",
              "      <td>3   Banheiros</td>\n",
              "      <td>1   Vaga</td>\n",
              "      <td>210   m²</td>\n",
              "    </tr>\n",
              "  </tbody>\n",
              "</table>\n",
              "</div>"
            ],
            "text/plain": [
              "  Unnamed: 0             aluguel  ...           vaga          area\n",
              "0          0       R$ 400 /Mês    ...    --   Vaga       17   m²  \n",
              "1          1     R$ 5.900 /Mês    ...     1   Vaga      210   m²  \n",
              "\n",
              "[2 rows x 7 columns]"
            ]
          },
          "metadata": {
            "tags": []
          },
          "execution_count": 18
        }
      ]
    },
    {
      "cell_type": "code",
      "metadata": {
        "id": "1PnPrFk3yNSd"
      },
      "source": [
        "aluguel['aluguel'] = aluguel['aluguel'].replace('Sob Consulta','',regex = True) "
      ],
      "execution_count": 19,
      "outputs": []
    },
    {
      "cell_type": "code",
      "metadata": {
        "id": "Rv2f5h28CBGk"
      },
      "source": [
        "aluguel['quartos'] = aluguel['quartos'].replace('\\--',0,regex = True)"
      ],
      "execution_count": 20,
      "outputs": []
    },
    {
      "cell_type": "code",
      "metadata": {
        "id": "kIpH4-Sm9yaR"
      },
      "source": [
        "aluguel = aluguel.drop(['Unnamed: 0'],axis=1)"
      ],
      "execution_count": 21,
      "outputs": []
    },
    {
      "cell_type": "code",
      "metadata": {
        "id": "ySIKARu1zMws"
      },
      "source": [
        "aluguel['bairro'] = aluguel.endereco.str.split('\\s-').str[1]\n",
        "aluguel['rua'] = aluguel.endereco.str.split('\\s-').str[0]\n",
        "aluguel['bairro'] = aluguel.bairro.str.split(',').str[0]\n",
        "aluguel['vaga'] = aluguel.vaga.str.extract('(.*) Vaga')\n"
      ],
      "execution_count": 23,
      "outputs": []
    },
    {
      "cell_type": "code",
      "metadata": {
        "colab": {
          "base_uri": "https://localhost:8080/",
          "height": 1000
        },
        "id": "WA81mHPcC211",
        "outputId": "b79506fd-378a-45d5-d104-afdc65207a09"
      },
      "source": [
        "aluguel.head(50)"
      ],
      "execution_count": 24,
      "outputs": [
        {
          "output_type": "execute_result",
          "data": {
            "text/html": [
              "<div>\n",
              "<style scoped>\n",
              "    .dataframe tbody tr th:only-of-type {\n",
              "        vertical-align: middle;\n",
              "    }\n",
              "\n",
              "    .dataframe tbody tr th {\n",
              "        vertical-align: top;\n",
              "    }\n",
              "\n",
              "    .dataframe thead th {\n",
              "        text-align: right;\n",
              "    }\n",
              "</style>\n",
              "<table border=\"1\" class=\"dataframe\">\n",
              "  <thead>\n",
              "    <tr style=\"text-align: right;\">\n",
              "      <th></th>\n",
              "      <th>aluguel</th>\n",
              "      <th>quartos</th>\n",
              "      <th>endereco</th>\n",
              "      <th>banheiro</th>\n",
              "      <th>vaga</th>\n",
              "      <th>area</th>\n",
              "      <th>bairro</th>\n",
              "      <th>rua</th>\n",
              "    </tr>\n",
              "  </thead>\n",
              "  <tbody>\n",
              "    <tr>\n",
              "      <th>0</th>\n",
              "      <td>R$ 400 /Mês</td>\n",
              "      <td>1   Quarto</td>\n",
              "      <td>Avenida Tamandaré, 3192 - Vila Nasser, Campo G...</td>\n",
              "      <td>1   Banheiro</td>\n",
              "      <td>NaN</td>\n",
              "      <td>17   m²</td>\n",
              "      <td>Vila Nasser</td>\n",
              "      <td>Avenida Tamandaré, 3192</td>\n",
              "    </tr>\n",
              "    <tr>\n",
              "      <th>1</th>\n",
              "      <td>R$ 5.900 /Mês</td>\n",
              "      <td>3   Quartos</td>\n",
              "      <td>Avenida Bom Pastor, 1473 - Vila Vilas Boas, Ca...</td>\n",
              "      <td>3   Banheiros</td>\n",
              "      <td>NaN</td>\n",
              "      <td>210   m²</td>\n",
              "      <td>Vila Vilas Boas</td>\n",
              "      <td>Avenida Bom Pastor, 1473</td>\n",
              "    </tr>\n",
              "    <tr>\n",
              "      <th>2</th>\n",
              "      <td>R$ 60.000 /Mês    R$ 8.000.000</td>\n",
              "      <td>0</td>\n",
              "      <td>Rua Marechal Rondon, 1518 - Centro, Campo Gran...</td>\n",
              "      <td>--   Banheiro</td>\n",
              "      <td>NaN</td>\n",
              "      <td>2540   m²</td>\n",
              "      <td>Centro</td>\n",
              "      <td>Rua Marechal Rondon, 1518</td>\n",
              "    </tr>\n",
              "    <tr>\n",
              "      <th>3</th>\n",
              "      <td>R$ 1.400 /Mês    R$ 310.000</td>\n",
              "      <td>3   Quartos</td>\n",
              "      <td>Rua Doutor Werneck - UFMS, Campo Grande - MS</td>\n",
              "      <td>2   Banheiros</td>\n",
              "      <td>NaN</td>\n",
              "      <td>66   m²</td>\n",
              "      <td>UFMS</td>\n",
              "      <td>Rua Doutor Werneck</td>\n",
              "    </tr>\n",
              "    <tr>\n",
              "      <th>4</th>\n",
              "      <td>R$ 3.000 /Mês    R$ 650.000</td>\n",
              "      <td>2   Quartos</td>\n",
              "      <td>Avenida Três Barras, 859 - Vila Vilas Boas, Ca...</td>\n",
              "      <td>1   Banheiro</td>\n",
              "      <td>NaN</td>\n",
              "      <td>150   m²</td>\n",
              "      <td>Vila Vilas Boas</td>\n",
              "      <td>Avenida Três Barras, 859</td>\n",
              "    </tr>\n",
              "    <tr>\n",
              "      <th>5</th>\n",
              "      <td>R$ 900 /Mês</td>\n",
              "      <td>3   Quartos</td>\n",
              "      <td>Amambaí, Campo Grande - MS</td>\n",
              "      <td>2   Banheiros</td>\n",
              "      <td>NaN</td>\n",
              "      <td>93   m²</td>\n",
              "      <td>MS</td>\n",
              "      <td>Amambaí, Campo Grande</td>\n",
              "    </tr>\n",
              "    <tr>\n",
              "      <th>6</th>\n",
              "      <td>R$ 1.500 /Mês</td>\n",
              "      <td>2   Quartos</td>\n",
              "      <td>Avenida Senador Antonio Mendes Canale, 725 - P...</td>\n",
              "      <td>2   Banheiros</td>\n",
              "      <td>NaN</td>\n",
              "      <td>68   m²</td>\n",
              "      <td>Pioneiros</td>\n",
              "      <td>Avenida Senador Antonio Mendes Canale, 725</td>\n",
              "    </tr>\n",
              "    <tr>\n",
              "      <th>7</th>\n",
              "      <td>R$ 2.200 /Mês</td>\n",
              "      <td>0</td>\n",
              "      <td>Rua Quinze de Novembro - Jardim dos Estados, C...</td>\n",
              "      <td>1   Banheiro</td>\n",
              "      <td>NaN</td>\n",
              "      <td>52   m²</td>\n",
              "      <td>Jardim dos Estados</td>\n",
              "      <td>Rua Quinze de Novembro</td>\n",
              "    </tr>\n",
              "    <tr>\n",
              "      <th>8</th>\n",
              "      <td>R$ 1.650 /Mês</td>\n",
              "      <td>2   Quartos</td>\n",
              "      <td>Taquaral Bosque, Campo Grande - MS</td>\n",
              "      <td>1   Banheiro</td>\n",
              "      <td>NaN</td>\n",
              "      <td>65   m²</td>\n",
              "      <td>MS</td>\n",
              "      <td>Taquaral Bosque, Campo Grande</td>\n",
              "    </tr>\n",
              "    <tr>\n",
              "      <th>9</th>\n",
              "      <td>R$ 9.800 /Mês</td>\n",
              "      <td>0</td>\n",
              "      <td>Avenida Jamil Nahas, 611 - Polo Empresarial Oe...</td>\n",
              "      <td>4   Banheiros</td>\n",
              "      <td>NaN</td>\n",
              "      <td>1000   m²</td>\n",
              "      <td>Polo Empresarial Oeste</td>\n",
              "      <td>Avenida Jamil Nahas, 611</td>\n",
              "    </tr>\n",
              "    <tr>\n",
              "      <th>10</th>\n",
              "      <td>R$ 2.000 /Mês</td>\n",
              "      <td>2   Quartos</td>\n",
              "      <td>Rua Gameleira, 94 - Caranda Bosque, Campo Gran...</td>\n",
              "      <td>2   Banheiros</td>\n",
              "      <td>NaN</td>\n",
              "      <td>260   m²</td>\n",
              "      <td>Caranda Bosque</td>\n",
              "      <td>Rua Gameleira, 94</td>\n",
              "    </tr>\n",
              "    <tr>\n",
              "      <th>11</th>\n",
              "      <td>R$ 1.400 /Mês</td>\n",
              "      <td>3   Quartos</td>\n",
              "      <td>Avenida Rachid Neder, 7312 - São Francisco, Ca...</td>\n",
              "      <td>2   Banheiros</td>\n",
              "      <td>NaN</td>\n",
              "      <td>70   m²</td>\n",
              "      <td>São Francisco</td>\n",
              "      <td>Avenida Rachid Neder, 7312</td>\n",
              "    </tr>\n",
              "    <tr>\n",
              "      <th>12</th>\n",
              "      <td>R$ 1.300 /Mês</td>\n",
              "      <td>2   Quartos</td>\n",
              "      <td>Rua Alfredo Borba - Nova Lima, Campo Grande - MS</td>\n",
              "      <td>2   Banheiros</td>\n",
              "      <td>NaN</td>\n",
              "      <td>60   m²</td>\n",
              "      <td>Nova Lima</td>\n",
              "      <td>Rua Alfredo Borba</td>\n",
              "    </tr>\n",
              "    <tr>\n",
              "      <th>13</th>\n",
              "      <td>R$ 4.000 /Mês</td>\n",
              "      <td>5   Quartos</td>\n",
              "      <td>Rua Manoel Inácio de Souza, 290 - Jardim dos E...</td>\n",
              "      <td>4   Banheiros</td>\n",
              "      <td>NaN</td>\n",
              "      <td>642   m²</td>\n",
              "      <td>Jardim dos Estados</td>\n",
              "      <td>Rua Manoel Inácio de Souza, 290</td>\n",
              "    </tr>\n",
              "    <tr>\n",
              "      <th>14</th>\n",
              "      <td>R$ 700 /Mês</td>\n",
              "      <td>2   Quartos</td>\n",
              "      <td>Rua Jeriba, 1250 - Chácara Cachoeira, Campo Gr...</td>\n",
              "      <td>2   Banheiros</td>\n",
              "      <td>NaN</td>\n",
              "      <td>75   m²</td>\n",
              "      <td>Chácara Cachoeira</td>\n",
              "      <td>Rua Jeriba, 1250</td>\n",
              "    </tr>\n",
              "    <tr>\n",
              "      <th>15</th>\n",
              "      <td>R$ 1.800 /Mês</td>\n",
              "      <td>1   Quarto</td>\n",
              "      <td>Rua Júlio Barone, 708 - Monte Castelo, Campo G...</td>\n",
              "      <td>5   Banheiros</td>\n",
              "      <td>NaN</td>\n",
              "      <td>170   m²</td>\n",
              "      <td>Monte Castelo</td>\n",
              "      <td>Rua Júlio Barone, 708</td>\n",
              "    </tr>\n",
              "    <tr>\n",
              "      <th>16</th>\n",
              "      <td>R$ 2.350 /Mês</td>\n",
              "      <td>3   Quartos</td>\n",
              "      <td>Vila Santa Luzia, Campo Grande - MS</td>\n",
              "      <td>2   Banheiros</td>\n",
              "      <td>NaN</td>\n",
              "      <td>150   m²</td>\n",
              "      <td>MS</td>\n",
              "      <td>Vila Santa Luzia, Campo Grande</td>\n",
              "    </tr>\n",
              "    <tr>\n",
              "      <th>17</th>\n",
              "      <td>R$ 1.600 /Mês</td>\n",
              "      <td>3   Quartos</td>\n",
              "      <td>Rua José Tufão - Mata do Jacinto, Campo Grande...</td>\n",
              "      <td>2   Banheiros</td>\n",
              "      <td>NaN</td>\n",
              "      <td>104   m²</td>\n",
              "      <td>Mata do Jacinto</td>\n",
              "      <td>Rua José Tufão</td>\n",
              "    </tr>\n",
              "    <tr>\n",
              "      <th>18</th>\n",
              "      <td>R$ 1.500 /Mês</td>\n",
              "      <td>2   Quartos</td>\n",
              "      <td>Rua Campo Grande, 35 - Vila Ipiranga, Campo Gr...</td>\n",
              "      <td>1   Banheiro</td>\n",
              "      <td>NaN</td>\n",
              "      <td>62   m²</td>\n",
              "      <td>Vila Ipiranga</td>\n",
              "      <td>Rua Campo Grande, 35</td>\n",
              "    </tr>\n",
              "    <tr>\n",
              "      <th>19</th>\n",
              "      <td>R$ 700 /Mês</td>\n",
              "      <td>2   Quartos</td>\n",
              "      <td>Avenida Fábio Zahran, 6603 - Vila Ipiranga, Ca...</td>\n",
              "      <td>1   Banheiro</td>\n",
              "      <td>NaN</td>\n",
              "      <td>35   m²</td>\n",
              "      <td>Vila Ipiranga</td>\n",
              "      <td>Avenida Fábio Zahran, 6603</td>\n",
              "    </tr>\n",
              "    <tr>\n",
              "      <th>20</th>\n",
              "      <td>R$ 1.600 /Mês</td>\n",
              "      <td>3   Quartos</td>\n",
              "      <td>Rua Rui Barbosa, 4950 - Centro, Campo Grande - MS</td>\n",
              "      <td>2   Banheiros</td>\n",
              "      <td>NaN</td>\n",
              "      <td>69   m²</td>\n",
              "      <td>Centro</td>\n",
              "      <td>Rua Rui Barbosa, 4950</td>\n",
              "    </tr>\n",
              "    <tr>\n",
              "      <th>21</th>\n",
              "      <td>R$ 7.000 /Mês</td>\n",
              "      <td>4   Quartos</td>\n",
              "      <td>Rua Nelson Borges de Barros, 394 - Caranda Bos...</td>\n",
              "      <td>4   Banheiros</td>\n",
              "      <td>NaN</td>\n",
              "      <td>505   m²</td>\n",
              "      <td>Caranda Bosque</td>\n",
              "      <td>Rua Nelson Borges de Barros, 394</td>\n",
              "    </tr>\n",
              "    <tr>\n",
              "      <th>22</th>\n",
              "      <td>R$ 2.250 /Mês</td>\n",
              "      <td>1   Quarto</td>\n",
              "      <td>Rua Hermelita de Oliveira Gomes, 225 - Santa F...</td>\n",
              "      <td>1   Banheiro</td>\n",
              "      <td>NaN</td>\n",
              "      <td>59   m²</td>\n",
              "      <td>Santa Fé</td>\n",
              "      <td>Rua Hermelita de Oliveira Gomes, 225</td>\n",
              "    </tr>\n",
              "    <tr>\n",
              "      <th>23</th>\n",
              "      <td>R$ 3.600 /Mês</td>\n",
              "      <td>0</td>\n",
              "      <td>Rua Marechal Rondon, 2440 - Centro, Campo Gran...</td>\n",
              "      <td>2   Banheiros</td>\n",
              "      <td>NaN</td>\n",
              "      <td>109   m²</td>\n",
              "      <td>Centro</td>\n",
              "      <td>Rua Marechal Rondon, 2440</td>\n",
              "    </tr>\n",
              "    <tr>\n",
              "      <th>24</th>\n",
              "      <td>R$ 3.300 /Mês</td>\n",
              "      <td>4   Quartos</td>\n",
              "      <td>Rua Duarte Pacheco, 367 - Sobrinho, Campo Gran...</td>\n",
              "      <td>4   Banheiros</td>\n",
              "      <td>NaN</td>\n",
              "      <td>135   m²</td>\n",
              "      <td>Sobrinho</td>\n",
              "      <td>Rua Duarte Pacheco, 367</td>\n",
              "    </tr>\n",
              "    <tr>\n",
              "      <th>25</th>\n",
              "      <td>R$ 900 /Mês</td>\n",
              "      <td>2   Quartos</td>\n",
              "      <td>Rua Onoria Martins Pereira, 82 - Monte Castelo...</td>\n",
              "      <td>1   Banheiro</td>\n",
              "      <td>NaN</td>\n",
              "      <td>50   m²</td>\n",
              "      <td>Monte Castelo</td>\n",
              "      <td>Rua Onoria Martins Pereira, 82</td>\n",
              "    </tr>\n",
              "    <tr>\n",
              "      <th>26</th>\n",
              "      <td>R$ 2.900 /Mês</td>\n",
              "      <td>3   Quartos</td>\n",
              "      <td>Rua Padre João Crippa, 1105 - Centro, Campo Gr...</td>\n",
              "      <td>2   Banheiros</td>\n",
              "      <td>NaN</td>\n",
              "      <td>175   m²</td>\n",
              "      <td>Centro</td>\n",
              "      <td>Rua Padre João Crippa, 1105</td>\n",
              "    </tr>\n",
              "    <tr>\n",
              "      <th>27</th>\n",
              "      <td>R$ 2.800 /Mês</td>\n",
              "      <td>2   Quartos</td>\n",
              "      <td>Rua Valência, 61 - Vila Alba, Campo Grande - MS</td>\n",
              "      <td>2   Banheiros</td>\n",
              "      <td>NaN</td>\n",
              "      <td>300   m²</td>\n",
              "      <td>Vila Alba</td>\n",
              "      <td>Rua Valência, 61</td>\n",
              "    </tr>\n",
              "    <tr>\n",
              "      <th>28</th>\n",
              "      <td>R$ 2.200 /Mês</td>\n",
              "      <td>3   Quartos</td>\n",
              "      <td>Avenida Júlio de Castilho - Vila Alba, Campo G...</td>\n",
              "      <td>3   Banheiros</td>\n",
              "      <td>NaN</td>\n",
              "      <td>180   m²</td>\n",
              "      <td>Vila Alba</td>\n",
              "      <td>Avenida Júlio de Castilho</td>\n",
              "    </tr>\n",
              "    <tr>\n",
              "      <th>29</th>\n",
              "      <td>R$ 1.350 /Mês</td>\n",
              "      <td>3   Quartos</td>\n",
              "      <td>Rua Quatorze de Julho, 4.465 - São Francisco, ...</td>\n",
              "      <td>3   Banheiros</td>\n",
              "      <td>NaN</td>\n",
              "      <td>69   m²</td>\n",
              "      <td>São Francisco</td>\n",
              "      <td>Rua Quatorze de Julho, 4.465</td>\n",
              "    </tr>\n",
              "    <tr>\n",
              "      <th>30</th>\n",
              "      <td>R$ 1.100 /Mês</td>\n",
              "      <td>3   Quartos</td>\n",
              "      <td>Rua Carandá, 35 - Vila Ipiranga, Campo Grande ...</td>\n",
              "      <td>1   Banheiro</td>\n",
              "      <td>NaN</td>\n",
              "      <td>60   m²</td>\n",
              "      <td>Vila Ipiranga</td>\n",
              "      <td>Rua Carandá, 35</td>\n",
              "    </tr>\n",
              "    <tr>\n",
              "      <th>31</th>\n",
              "      <td>R$ 5.500 /Mês</td>\n",
              "      <td>4   Quartos</td>\n",
              "      <td>Vila Célia, Campo Grande - MS</td>\n",
              "      <td>8   Banheiros</td>\n",
              "      <td>NaN</td>\n",
              "      <td>223   m²</td>\n",
              "      <td>MS</td>\n",
              "      <td>Vila Célia, Campo Grande</td>\n",
              "    </tr>\n",
              "    <tr>\n",
              "      <th>32</th>\n",
              "      <td>R$ 1.500 /Mês</td>\n",
              "      <td>2   Quartos</td>\n",
              "      <td>Rua Alegrete, 5 - Monte Castelo, Campo Grande ...</td>\n",
              "      <td>3   Banheiros</td>\n",
              "      <td>NaN</td>\n",
              "      <td>114   m²</td>\n",
              "      <td>Monte Castelo</td>\n",
              "      <td>Rua Alegrete, 5</td>\n",
              "    </tr>\n",
              "    <tr>\n",
              "      <th>33</th>\n",
              "      <td>R$ 2.800 /Mês</td>\n",
              "      <td>3   Quartos</td>\n",
              "      <td>Rua Abraão Bacach, 88 - Vila Santa Luzia, Camp...</td>\n",
              "      <td>3   Banheiros</td>\n",
              "      <td>NaN</td>\n",
              "      <td>135   m²</td>\n",
              "      <td>Vila Santa Luzia</td>\n",
              "      <td>Rua Abraão Bacach, 88</td>\n",
              "    </tr>\n",
              "    <tr>\n",
              "      <th>34</th>\n",
              "      <td>R$ 1.300 /Mês</td>\n",
              "      <td>3   Quartos</td>\n",
              "      <td>Avenida Noroeste, 4565 - Centro, Campo Grande ...</td>\n",
              "      <td>2   Banheiros</td>\n",
              "      <td>NaN</td>\n",
              "      <td>90   m²</td>\n",
              "      <td>Centro</td>\n",
              "      <td>Avenida Noroeste, 4565</td>\n",
              "    </tr>\n",
              "    <tr>\n",
              "      <th>35</th>\n",
              "      <td>R$ 2.000 /Mês</td>\n",
              "      <td>2   Quartos</td>\n",
              "      <td>Rua Rogério Cavalari, 131 - Tiradentes, Campo ...</td>\n",
              "      <td>3   Banheiros</td>\n",
              "      <td>NaN</td>\n",
              "      <td>62   m²</td>\n",
              "      <td>Tiradentes</td>\n",
              "      <td>Rua Rogério Cavalari, 131</td>\n",
              "    </tr>\n",
              "    <tr>\n",
              "      <th>36</th>\n",
              "      <td>R$ 400 /Mês</td>\n",
              "      <td>1   Quarto</td>\n",
              "      <td>Avenida Tamandaré, 3192 - Vila Nasser, Campo G...</td>\n",
              "      <td>1   Banheiro</td>\n",
              "      <td>NaN</td>\n",
              "      <td>17   m²</td>\n",
              "      <td>Vila Nasser</td>\n",
              "      <td>Avenida Tamandaré, 3192</td>\n",
              "    </tr>\n",
              "    <tr>\n",
              "      <th>37</th>\n",
              "      <td>R$ 5.900 /Mês</td>\n",
              "      <td>3   Quartos</td>\n",
              "      <td>Avenida Bom Pastor, 1473 - Vila Vilas Boas, Ca...</td>\n",
              "      <td>3   Banheiros</td>\n",
              "      <td>NaN</td>\n",
              "      <td>210   m²</td>\n",
              "      <td>Vila Vilas Boas</td>\n",
              "      <td>Avenida Bom Pastor, 1473</td>\n",
              "    </tr>\n",
              "    <tr>\n",
              "      <th>38</th>\n",
              "      <td>R$ 60.000 /Mês    R$ 8.000.000</td>\n",
              "      <td>0</td>\n",
              "      <td>Rua Marechal Rondon, 1518 - Centro, Campo Gran...</td>\n",
              "      <td>--   Banheiro</td>\n",
              "      <td>NaN</td>\n",
              "      <td>2540   m²</td>\n",
              "      <td>Centro</td>\n",
              "      <td>Rua Marechal Rondon, 1518</td>\n",
              "    </tr>\n",
              "    <tr>\n",
              "      <th>39</th>\n",
              "      <td>R$ 1.400 /Mês    R$ 310.000</td>\n",
              "      <td>3   Quartos</td>\n",
              "      <td>Rua Doutor Werneck - UFMS, Campo Grande - MS</td>\n",
              "      <td>2   Banheiros</td>\n",
              "      <td>NaN</td>\n",
              "      <td>66   m²</td>\n",
              "      <td>UFMS</td>\n",
              "      <td>Rua Doutor Werneck</td>\n",
              "    </tr>\n",
              "    <tr>\n",
              "      <th>40</th>\n",
              "      <td>R$ 3.000 /Mês    R$ 650.000</td>\n",
              "      <td>2   Quartos</td>\n",
              "      <td>Avenida Três Barras, 859 - Vila Vilas Boas, Ca...</td>\n",
              "      <td>1   Banheiro</td>\n",
              "      <td>NaN</td>\n",
              "      <td>150   m²</td>\n",
              "      <td>Vila Vilas Boas</td>\n",
              "      <td>Avenida Três Barras, 859</td>\n",
              "    </tr>\n",
              "    <tr>\n",
              "      <th>41</th>\n",
              "      <td>R$ 900 /Mês</td>\n",
              "      <td>3   Quartos</td>\n",
              "      <td>Amambaí, Campo Grande - MS</td>\n",
              "      <td>2   Banheiros</td>\n",
              "      <td>NaN</td>\n",
              "      <td>93   m²</td>\n",
              "      <td>MS</td>\n",
              "      <td>Amambaí, Campo Grande</td>\n",
              "    </tr>\n",
              "    <tr>\n",
              "      <th>42</th>\n",
              "      <td>R$ 1.500 /Mês</td>\n",
              "      <td>2   Quartos</td>\n",
              "      <td>Avenida Senador Antonio Mendes Canale, 725 - P...</td>\n",
              "      <td>2   Banheiros</td>\n",
              "      <td>NaN</td>\n",
              "      <td>68   m²</td>\n",
              "      <td>Pioneiros</td>\n",
              "      <td>Avenida Senador Antonio Mendes Canale, 725</td>\n",
              "    </tr>\n",
              "    <tr>\n",
              "      <th>43</th>\n",
              "      <td>R$ 2.200 /Mês</td>\n",
              "      <td>0</td>\n",
              "      <td>Rua Quinze de Novembro - Jardim dos Estados, C...</td>\n",
              "      <td>1   Banheiro</td>\n",
              "      <td>NaN</td>\n",
              "      <td>52   m²</td>\n",
              "      <td>Jardim dos Estados</td>\n",
              "      <td>Rua Quinze de Novembro</td>\n",
              "    </tr>\n",
              "    <tr>\n",
              "      <th>44</th>\n",
              "      <td>R$ 1.650 /Mês</td>\n",
              "      <td>2   Quartos</td>\n",
              "      <td>Taquaral Bosque, Campo Grande - MS</td>\n",
              "      <td>1   Banheiro</td>\n",
              "      <td>NaN</td>\n",
              "      <td>65   m²</td>\n",
              "      <td>MS</td>\n",
              "      <td>Taquaral Bosque, Campo Grande</td>\n",
              "    </tr>\n",
              "    <tr>\n",
              "      <th>45</th>\n",
              "      <td>R$ 9.800 /Mês</td>\n",
              "      <td>0</td>\n",
              "      <td>Avenida Jamil Nahas, 611 - Polo Empresarial Oe...</td>\n",
              "      <td>4   Banheiros</td>\n",
              "      <td>NaN</td>\n",
              "      <td>1000   m²</td>\n",
              "      <td>Polo Empresarial Oeste</td>\n",
              "      <td>Avenida Jamil Nahas, 611</td>\n",
              "    </tr>\n",
              "    <tr>\n",
              "      <th>46</th>\n",
              "      <td>R$ 2.000 /Mês</td>\n",
              "      <td>2   Quartos</td>\n",
              "      <td>Rua Gameleira, 94 - Caranda Bosque, Campo Gran...</td>\n",
              "      <td>2   Banheiros</td>\n",
              "      <td>NaN</td>\n",
              "      <td>260   m²</td>\n",
              "      <td>Caranda Bosque</td>\n",
              "      <td>Rua Gameleira, 94</td>\n",
              "    </tr>\n",
              "    <tr>\n",
              "      <th>47</th>\n",
              "      <td>R$ 1.400 /Mês</td>\n",
              "      <td>3   Quartos</td>\n",
              "      <td>Avenida Rachid Neder, 7312 - São Francisco, Ca...</td>\n",
              "      <td>2   Banheiros</td>\n",
              "      <td>NaN</td>\n",
              "      <td>70   m²</td>\n",
              "      <td>São Francisco</td>\n",
              "      <td>Avenida Rachid Neder, 7312</td>\n",
              "    </tr>\n",
              "    <tr>\n",
              "      <th>48</th>\n",
              "      <td>R$ 1.300 /Mês</td>\n",
              "      <td>2   Quartos</td>\n",
              "      <td>Rua Alfredo Borba - Nova Lima, Campo Grande - MS</td>\n",
              "      <td>2   Banheiros</td>\n",
              "      <td>NaN</td>\n",
              "      <td>60   m²</td>\n",
              "      <td>Nova Lima</td>\n",
              "      <td>Rua Alfredo Borba</td>\n",
              "    </tr>\n",
              "    <tr>\n",
              "      <th>49</th>\n",
              "      <td>R$ 4.000 /Mês</td>\n",
              "      <td>5   Quartos</td>\n",
              "      <td>Rua Manoel Inácio de Souza, 290 - Jardim dos E...</td>\n",
              "      <td>4   Banheiros</td>\n",
              "      <td>NaN</td>\n",
              "      <td>642   m²</td>\n",
              "      <td>Jardim dos Estados</td>\n",
              "      <td>Rua Manoel Inácio de Souza, 290</td>\n",
              "    </tr>\n",
              "  </tbody>\n",
              "</table>\n",
              "</div>"
            ],
            "text/plain": [
              "                                 aluguel  ...                                         rua\n",
              "0                          R$ 400 /Mês    ...                     Avenida Tamandaré, 3192\n",
              "1                        R$ 5.900 /Mês    ...                    Avenida Bom Pastor, 1473\n",
              "2      R$ 60.000 /Mês    R$ 8.000.000     ...                   Rua Marechal Rondon, 1518\n",
              "3         R$ 1.400 /Mês    R$ 310.000     ...                          Rua Doutor Werneck\n",
              "4         R$ 3.000 /Mês    R$ 650.000     ...                    Avenida Três Barras, 859\n",
              "5                          R$ 900 /Mês    ...                       Amambaí, Campo Grande\n",
              "6                        R$ 1.500 /Mês    ...  Avenida Senador Antonio Mendes Canale, 725\n",
              "7                        R$ 2.200 /Mês    ...                      Rua Quinze de Novembro\n",
              "8                        R$ 1.650 /Mês    ...               Taquaral Bosque, Campo Grande\n",
              "9                        R$ 9.800 /Mês    ...                    Avenida Jamil Nahas, 611\n",
              "10                       R$ 2.000 /Mês    ...                           Rua Gameleira, 94\n",
              "11                       R$ 1.400 /Mês    ...                  Avenida Rachid Neder, 7312\n",
              "12                       R$ 1.300 /Mês    ...                           Rua Alfredo Borba\n",
              "13                       R$ 4.000 /Mês    ...             Rua Manoel Inácio de Souza, 290\n",
              "14                         R$ 700 /Mês    ...                            Rua Jeriba, 1250\n",
              "15                       R$ 1.800 /Mês    ...                       Rua Júlio Barone, 708\n",
              "16                       R$ 2.350 /Mês    ...              Vila Santa Luzia, Campo Grande\n",
              "17                       R$ 1.600 /Mês    ...                              Rua José Tufão\n",
              "18                       R$ 1.500 /Mês    ...                        Rua Campo Grande, 35\n",
              "19                         R$ 700 /Mês    ...                  Avenida Fábio Zahran, 6603\n",
              "20                       R$ 1.600 /Mês    ...                       Rua Rui Barbosa, 4950\n",
              "21                       R$ 7.000 /Mês    ...            Rua Nelson Borges de Barros, 394\n",
              "22                       R$ 2.250 /Mês    ...        Rua Hermelita de Oliveira Gomes, 225\n",
              "23                       R$ 3.600 /Mês    ...                   Rua Marechal Rondon, 2440\n",
              "24                       R$ 3.300 /Mês    ...                     Rua Duarte Pacheco, 367\n",
              "25                         R$ 900 /Mês    ...              Rua Onoria Martins Pereira, 82\n",
              "26                       R$ 2.900 /Mês    ...                 Rua Padre João Crippa, 1105\n",
              "27                       R$ 2.800 /Mês    ...                            Rua Valência, 61\n",
              "28                       R$ 2.200 /Mês    ...                   Avenida Júlio de Castilho\n",
              "29                       R$ 1.350 /Mês    ...                Rua Quatorze de Julho, 4.465\n",
              "30                       R$ 1.100 /Mês    ...                             Rua Carandá, 35\n",
              "31                       R$ 5.500 /Mês    ...                    Vila Célia, Campo Grande\n",
              "32                       R$ 1.500 /Mês    ...                             Rua Alegrete, 5\n",
              "33                       R$ 2.800 /Mês    ...                       Rua Abraão Bacach, 88\n",
              "34                       R$ 1.300 /Mês    ...                      Avenida Noroeste, 4565\n",
              "35                       R$ 2.000 /Mês    ...                   Rua Rogério Cavalari, 131\n",
              "36                         R$ 400 /Mês    ...                     Avenida Tamandaré, 3192\n",
              "37                       R$ 5.900 /Mês    ...                    Avenida Bom Pastor, 1473\n",
              "38     R$ 60.000 /Mês    R$ 8.000.000     ...                   Rua Marechal Rondon, 1518\n",
              "39        R$ 1.400 /Mês    R$ 310.000     ...                          Rua Doutor Werneck\n",
              "40        R$ 3.000 /Mês    R$ 650.000     ...                    Avenida Três Barras, 859\n",
              "41                         R$ 900 /Mês    ...                       Amambaí, Campo Grande\n",
              "42                       R$ 1.500 /Mês    ...  Avenida Senador Antonio Mendes Canale, 725\n",
              "43                       R$ 2.200 /Mês    ...                      Rua Quinze de Novembro\n",
              "44                       R$ 1.650 /Mês    ...               Taquaral Bosque, Campo Grande\n",
              "45                       R$ 9.800 /Mês    ...                    Avenida Jamil Nahas, 611\n",
              "46                       R$ 2.000 /Mês    ...                           Rua Gameleira, 94\n",
              "47                       R$ 1.400 /Mês    ...                  Avenida Rachid Neder, 7312\n",
              "48                       R$ 1.300 /Mês    ...                           Rua Alfredo Borba\n",
              "49                       R$ 4.000 /Mês    ...             Rua Manoel Inácio de Souza, 290\n",
              "\n",
              "[50 rows x 8 columns]"
            ]
          },
          "metadata": {
            "tags": []
          },
          "execution_count": 24
        }
      ]
    },
    {
      "cell_type": "code",
      "metadata": {
        "id": "QDFiTljPzFtI"
      },
      "source": [
        "cols_str = aluguel.columns.drop(['endereco','bairro','rua'])"
      ],
      "execution_count": 25,
      "outputs": []
    },
    {
      "cell_type": "code",
      "metadata": {
        "id": "xHp6sEZy2maX"
      },
      "source": [
        "aluguel['banheiro'] = aluguel['banheiro'].str.extract('(.*) Banheiro')"
      ],
      "execution_count": 26,
      "outputs": []
    },
    {
      "cell_type": "code",
      "metadata": {
        "id": "M6_665z70crT"
      },
      "source": [
        "aluguel[cols_str] = aluguel[cols_str].apply(pd.to_numeric, errors='coerce')"
      ],
      "execution_count": 27,
      "outputs": []
    },
    {
      "cell_type": "code",
      "metadata": {
        "colab": {
          "base_uri": "https://localhost:8080/"
        },
        "id": "8urJbSBQ0sVZ",
        "outputId": "f2a8b8a2-f9bf-48bd-d5f2-f3b22107cd98"
      },
      "source": [
        "aluguel.info()"
      ],
      "execution_count": 28,
      "outputs": [
        {
          "output_type": "stream",
          "text": [
            "<class 'pandas.core.frame.DataFrame'>\n",
            "RangeIndex: 1404 entries, 0 to 1403\n",
            "Data columns (total 8 columns):\n",
            " #   Column    Non-Null Count  Dtype  \n",
            "---  ------    --------------  -----  \n",
            " 0   aluguel   0 non-null      float64\n",
            " 1   quartos   156 non-null    float64\n",
            " 2   endereco  1404 non-null   object \n",
            " 3   banheiro  1365 non-null   float64\n",
            " 4   vaga      0 non-null      float64\n",
            " 5   area      0 non-null      float64\n",
            " 6   bairro    1404 non-null   object \n",
            " 7   rua       1404 non-null   object \n",
            "dtypes: float64(5), object(3)\n",
            "memory usage: 87.9+ KB\n"
          ],
          "name": "stdout"
        }
      ]
    },
    {
      "cell_type": "code",
      "metadata": {
        "colab": {
          "base_uri": "https://localhost:8080/",
          "height": 297
        },
        "id": "VSU1qwPtAMP2",
        "outputId": "8b0c6571-9175-483c-9999-f74a97d1c913"
      },
      "source": [
        "aluguel.describe()"
      ],
      "execution_count": 29,
      "outputs": [
        {
          "output_type": "execute_result",
          "data": {
            "text/html": [
              "<div>\n",
              "<style scoped>\n",
              "    .dataframe tbody tr th:only-of-type {\n",
              "        vertical-align: middle;\n",
              "    }\n",
              "\n",
              "    .dataframe tbody tr th {\n",
              "        vertical-align: top;\n",
              "    }\n",
              "\n",
              "    .dataframe thead th {\n",
              "        text-align: right;\n",
              "    }\n",
              "</style>\n",
              "<table border=\"1\" class=\"dataframe\">\n",
              "  <thead>\n",
              "    <tr style=\"text-align: right;\">\n",
              "      <th></th>\n",
              "      <th>aluguel</th>\n",
              "      <th>quartos</th>\n",
              "      <th>banheiro</th>\n",
              "      <th>vaga</th>\n",
              "      <th>area</th>\n",
              "    </tr>\n",
              "  </thead>\n",
              "  <tbody>\n",
              "    <tr>\n",
              "      <th>count</th>\n",
              "      <td>0.0</td>\n",
              "      <td>156.0</td>\n",
              "      <td>1365.000000</td>\n",
              "      <td>0.0</td>\n",
              "      <td>0.0</td>\n",
              "    </tr>\n",
              "    <tr>\n",
              "      <th>mean</th>\n",
              "      <td>NaN</td>\n",
              "      <td>0.0</td>\n",
              "      <td>2.400000</td>\n",
              "      <td>NaN</td>\n",
              "      <td>NaN</td>\n",
              "    </tr>\n",
              "    <tr>\n",
              "      <th>std</th>\n",
              "      <td>NaN</td>\n",
              "      <td>0.0</td>\n",
              "      <td>1.418768</td>\n",
              "      <td>NaN</td>\n",
              "      <td>NaN</td>\n",
              "    </tr>\n",
              "    <tr>\n",
              "      <th>min</th>\n",
              "      <td>NaN</td>\n",
              "      <td>0.0</td>\n",
              "      <td>1.000000</td>\n",
              "      <td>NaN</td>\n",
              "      <td>NaN</td>\n",
              "    </tr>\n",
              "    <tr>\n",
              "      <th>25%</th>\n",
              "      <td>NaN</td>\n",
              "      <td>0.0</td>\n",
              "      <td>1.000000</td>\n",
              "      <td>NaN</td>\n",
              "      <td>NaN</td>\n",
              "    </tr>\n",
              "    <tr>\n",
              "      <th>50%</th>\n",
              "      <td>NaN</td>\n",
              "      <td>0.0</td>\n",
              "      <td>2.000000</td>\n",
              "      <td>NaN</td>\n",
              "      <td>NaN</td>\n",
              "    </tr>\n",
              "    <tr>\n",
              "      <th>75%</th>\n",
              "      <td>NaN</td>\n",
              "      <td>0.0</td>\n",
              "      <td>3.000000</td>\n",
              "      <td>NaN</td>\n",
              "      <td>NaN</td>\n",
              "    </tr>\n",
              "    <tr>\n",
              "      <th>max</th>\n",
              "      <td>NaN</td>\n",
              "      <td>0.0</td>\n",
              "      <td>8.000000</td>\n",
              "      <td>NaN</td>\n",
              "      <td>NaN</td>\n",
              "    </tr>\n",
              "  </tbody>\n",
              "</table>\n",
              "</div>"
            ],
            "text/plain": [
              "       aluguel  quartos     banheiro  vaga  area\n",
              "count      0.0    156.0  1365.000000   0.0   0.0\n",
              "mean       NaN      0.0     2.400000   NaN   NaN\n",
              "std        NaN      0.0     1.418768   NaN   NaN\n",
              "min        NaN      0.0     1.000000   NaN   NaN\n",
              "25%        NaN      0.0     1.000000   NaN   NaN\n",
              "50%        NaN      0.0     2.000000   NaN   NaN\n",
              "75%        NaN      0.0     3.000000   NaN   NaN\n",
              "max        NaN      0.0     8.000000   NaN   NaN"
            ]
          },
          "metadata": {
            "tags": []
          },
          "execution_count": 29
        }
      ]
    },
    {
      "cell_type": "code",
      "metadata": {
        "colab": {
          "base_uri": "https://localhost:8080/"
        },
        "id": "iQ8Tx2YGAuNt",
        "outputId": "7b291240-8881-4479-f9fe-049dd0097ebc"
      },
      "source": [
        "aluguel.shape"
      ],
      "execution_count": 30,
      "outputs": [
        {
          "output_type": "execute_result",
          "data": {
            "text/plain": [
              "(1404, 8)"
            ]
          },
          "metadata": {
            "tags": []
          },
          "execution_count": 30
        }
      ]
    },
    {
      "cell_type": "code",
      "metadata": {
        "colab": {
          "base_uri": "https://localhost:8080/"
        },
        "id": "zUifoEJtBLZd",
        "outputId": "69c30f95-4717-4265-a34b-bd9403a4e4c9"
      },
      "source": [
        "aluguel = aluguel.fillna(aluguel.median())\n",
        "aluguel.isnull().sum()\n",
        "\n",
        "#df.fillna(df.median())"
      ],
      "execution_count": 32,
      "outputs": [
        {
          "output_type": "execute_result",
          "data": {
            "text/plain": [
              "aluguel     1404\n",
              "quartos        0\n",
              "endereco       0\n",
              "banheiro       0\n",
              "vaga        1404\n",
              "area        1404\n",
              "bairro         0\n",
              "rua            0\n",
              "dtype: int64"
            ]
          },
          "metadata": {
            "tags": []
          },
          "execution_count": 32
        }
      ]
    }
  ]
}