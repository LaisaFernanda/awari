{
  "nbformat": 4,
  "nbformat_minor": 0,
  "metadata": {
    "colab": {
      "name": "Limpeza de dados.ipynb",
      "provenance": []
    },
    "kernelspec": {
      "display_name": "Python 3",
      "language": "python",
      "name": "python3"
    },
    "language_info": {
      "codemirror_mode": {
        "name": "ipython",
        "version": 3
      },
      "file_extension": ".py",
      "mimetype": "text/x-python",
      "name": "python",
      "nbconvert_exporter": "python",
      "pygments_lexer": "ipython3",
      "version": "3.6.9"
    }
  },
  "cells": [
    {
      "cell_type": "code",
      "metadata": {
        "id": "4fx6NPghPo4E"
      },
      "source": [
        "import pandas as pd"
      ],
      "execution_count": 1,
      "outputs": []
    },
    {
      "cell_type": "code",
      "metadata": {
        "id": "WhmUrxkoPo4M"
      },
      "source": [
        "df = pd.read_csv('aluguel.csv',dtype = str)\n",
        "df = df.drop(['Unnamed: 0'],axis=1)"
      ],
      "execution_count": 2,
      "outputs": []
    },
    {
      "cell_type": "code",
      "metadata": {
        "id": "O4GBR46WPo4M",
        "colab": {
          "base_uri": "https://localhost:8080/",
          "height": 347
        },
        "outputId": "6e7d2d1e-1c32-4e42-aa11-6f6db75850f1"
      },
      "source": [
        "df.head(10)"
      ],
      "execution_count": 3,
      "outputs": [
        {
          "output_type": "execute_result",
          "data": {
            "text/html": [
              "<div>\n",
              "<style scoped>\n",
              "    .dataframe tbody tr th:only-of-type {\n",
              "        vertical-align: middle;\n",
              "    }\n",
              "\n",
              "    .dataframe tbody tr th {\n",
              "        vertical-align: top;\n",
              "    }\n",
              "\n",
              "    .dataframe thead th {\n",
              "        text-align: right;\n",
              "    }\n",
              "</style>\n",
              "<table border=\"1\" class=\"dataframe\">\n",
              "  <thead>\n",
              "    <tr style=\"text-align: right;\">\n",
              "      <th></th>\n",
              "      <th>aluguel</th>\n",
              "      <th>quartos</th>\n",
              "      <th>endereco</th>\n",
              "      <th>banheiro</th>\n",
              "      <th>vaga</th>\n",
              "      <th>area</th>\n",
              "      <th>bairro</th>\n",
              "      <th>rua</th>\n",
              "    </tr>\n",
              "  </thead>\n",
              "  <tbody>\n",
              "    <tr>\n",
              "      <th>0</th>\n",
              "      <td>R$ 7.000 /Mês</td>\n",
              "      <td>2   Quartos</td>\n",
              "      <td>Rua Volta Redonda, 757 - Campo Belo, São Paulo...</td>\n",
              "      <td>5   Banheiros</td>\n",
              "      <td>3   Vagas</td>\n",
              "      <td>276   m²</td>\n",
              "      <td>NaN</td>\n",
              "      <td>NaN</td>\n",
              "    </tr>\n",
              "    <tr>\n",
              "      <th>1</th>\n",
              "      <td>R$ 1.650 /Mês</td>\n",
              "      <td>2   Quartos</td>\n",
              "      <td>Rua Professor Demóstenes Batista Figueira Marq...</td>\n",
              "      <td>1   Banheiro</td>\n",
              "      <td>1   Vaga</td>\n",
              "      <td>60   m²</td>\n",
              "      <td>NaN</td>\n",
              "      <td>NaN</td>\n",
              "    </tr>\n",
              "    <tr>\n",
              "      <th>2</th>\n",
              "      <td>R$ 2.400 /Mês</td>\n",
              "      <td>1   Quarto</td>\n",
              "      <td>Rua Cristiano Viana, 463 - Cerqueira César, Sã...</td>\n",
              "      <td>1   Banheiro</td>\n",
              "      <td>1   Vaga</td>\n",
              "      <td>45   m²</td>\n",
              "      <td>NaN</td>\n",
              "      <td>NaN</td>\n",
              "    </tr>\n",
              "    <tr>\n",
              "      <th>3</th>\n",
              "      <td>R$ 1.900 /Mês</td>\n",
              "      <td>2   Quartos</td>\n",
              "      <td>Rua Afonso Pena, 560 - Bom Retiro, São Paulo - SP</td>\n",
              "      <td>1   Banheiro</td>\n",
              "      <td>1   Vaga</td>\n",
              "      <td>42   m²</td>\n",
              "      <td>NaN</td>\n",
              "      <td>NaN</td>\n",
              "    </tr>\n",
              "    <tr>\n",
              "      <th>4</th>\n",
              "      <td>R$ 1.900 /Mês</td>\n",
              "      <td>2   Quartos</td>\n",
              "      <td>Rua Araquém, 19 - Vila Mascote, São Paulo - SP</td>\n",
              "      <td>3   Banheiros</td>\n",
              "      <td>1   Vaga</td>\n",
              "      <td>84   m²</td>\n",
              "      <td>NaN</td>\n",
              "      <td>NaN</td>\n",
              "    </tr>\n",
              "    <tr>\n",
              "      <th>5</th>\n",
              "      <td>R$ 1.900 /Mês</td>\n",
              "      <td>1   Quarto</td>\n",
              "      <td>Rua Adolfo Gordo, 52 - Campos Elíseos, São Pau...</td>\n",
              "      <td>1   Banheiro</td>\n",
              "      <td>1   Vaga</td>\n",
              "      <td>37   m²</td>\n",
              "      <td>NaN</td>\n",
              "      <td>NaN</td>\n",
              "    </tr>\n",
              "    <tr>\n",
              "      <th>6</th>\n",
              "      <td>R$ 3.400 /Mês</td>\n",
              "      <td>2   Quartos</td>\n",
              "      <td>Rua Caconde, 310 - Jardim Paulista, São Paulo ...</td>\n",
              "      <td>2   Banheiros</td>\n",
              "      <td>1   Vaga</td>\n",
              "      <td>130   m²</td>\n",
              "      <td>NaN</td>\n",
              "      <td>NaN</td>\n",
              "    </tr>\n",
              "    <tr>\n",
              "      <th>7</th>\n",
              "      <td>R$ 3.400 /Mês</td>\n",
              "      <td>2   Quartos</td>\n",
              "      <td>Rua Oscar Caravelas, 280 - Sumarezinho, São Pa...</td>\n",
              "      <td>2   Banheiros</td>\n",
              "      <td>2   Vagas</td>\n",
              "      <td>88   m²</td>\n",
              "      <td>NaN</td>\n",
              "      <td>NaN</td>\n",
              "    </tr>\n",
              "    <tr>\n",
              "      <th>8</th>\n",
              "      <td>R$ 4.200 /Mês</td>\n",
              "      <td>2   Quartos</td>\n",
              "      <td>Rua Helena, 52 - Vila Olímpia, São Paulo - SP</td>\n",
              "      <td>2   Banheiros</td>\n",
              "      <td>1   Vaga</td>\n",
              "      <td>60   m²</td>\n",
              "      <td>NaN</td>\n",
              "      <td>NaN</td>\n",
              "    </tr>\n",
              "    <tr>\n",
              "      <th>9</th>\n",
              "      <td>R$ 2.500 /Mês</td>\n",
              "      <td>1   Quarto</td>\n",
              "      <td>Avenida Vereador José Diniz, 3100 - Santo Amar...</td>\n",
              "      <td>1   Banheiro</td>\n",
              "      <td>1   Vaga</td>\n",
              "      <td>35   m²</td>\n",
              "      <td>NaN</td>\n",
              "      <td>NaN</td>\n",
              "    </tr>\n",
              "  </tbody>\n",
              "</table>\n",
              "</div>"
            ],
            "text/plain": [
              "              aluguel          quartos  ... bairro  rua\n",
              "0     R$ 7.000 /Mês      2   Quartos    ...    NaN  NaN\n",
              "1     R$ 1.650 /Mês      2   Quartos    ...    NaN  NaN\n",
              "2     R$ 2.400 /Mês       1   Quarto    ...    NaN  NaN\n",
              "3     R$ 1.900 /Mês      2   Quartos    ...    NaN  NaN\n",
              "4     R$ 1.900 /Mês      2   Quartos    ...    NaN  NaN\n",
              "5     R$ 1.900 /Mês       1   Quarto    ...    NaN  NaN\n",
              "6     R$ 3.400 /Mês      2   Quartos    ...    NaN  NaN\n",
              "7     R$ 3.400 /Mês      2   Quartos    ...    NaN  NaN\n",
              "8     R$ 4.200 /Mês      2   Quartos    ...    NaN  NaN\n",
              "9     R$ 2.500 /Mês       1   Quarto    ...    NaN  NaN\n",
              "\n",
              "[10 rows x 8 columns]"
            ]
          },
          "metadata": {
            "tags": []
          },
          "execution_count": 3
        }
      ]
    },
    {
      "cell_type": "code",
      "metadata": {
        "id": "tQY9CFxHrYEF",
        "colab": {
          "base_uri": "https://localhost:8080/",
          "height": 281
        },
        "outputId": "b266ff0e-3e16-40ec-cab9-2260a81e0093"
      },
      "source": [
        "df['bairro'] = df.endereco.str.split('\\s-').str[1]\n",
        "df['rua'] = df.endereco.str.split('\\s-').str[0]\n",
        "df['bairro'] = df.bairro.str.split(',').str[0]\n",
        "\n",
        "df.head()"
      ],
      "execution_count": 4,
      "outputs": [
        {
          "output_type": "execute_result",
          "data": {
            "text/html": [
              "<div>\n",
              "<style scoped>\n",
              "    .dataframe tbody tr th:only-of-type {\n",
              "        vertical-align: middle;\n",
              "    }\n",
              "\n",
              "    .dataframe tbody tr th {\n",
              "        vertical-align: top;\n",
              "    }\n",
              "\n",
              "    .dataframe thead th {\n",
              "        text-align: right;\n",
              "    }\n",
              "</style>\n",
              "<table border=\"1\" class=\"dataframe\">\n",
              "  <thead>\n",
              "    <tr style=\"text-align: right;\">\n",
              "      <th></th>\n",
              "      <th>aluguel</th>\n",
              "      <th>quartos</th>\n",
              "      <th>endereco</th>\n",
              "      <th>banheiro</th>\n",
              "      <th>vaga</th>\n",
              "      <th>area</th>\n",
              "      <th>bairro</th>\n",
              "      <th>rua</th>\n",
              "    </tr>\n",
              "  </thead>\n",
              "  <tbody>\n",
              "    <tr>\n",
              "      <th>0</th>\n",
              "      <td>R$ 7.000 /Mês</td>\n",
              "      <td>2   Quartos</td>\n",
              "      <td>Rua Volta Redonda, 757 - Campo Belo, São Paulo...</td>\n",
              "      <td>5   Banheiros</td>\n",
              "      <td>3   Vagas</td>\n",
              "      <td>276   m²</td>\n",
              "      <td>Campo Belo</td>\n",
              "      <td>Rua Volta Redonda, 757</td>\n",
              "    </tr>\n",
              "    <tr>\n",
              "      <th>1</th>\n",
              "      <td>R$ 1.650 /Mês</td>\n",
              "      <td>2   Quartos</td>\n",
              "      <td>Rua Professor Demóstenes Batista Figueira Marq...</td>\n",
              "      <td>1   Banheiro</td>\n",
              "      <td>1   Vaga</td>\n",
              "      <td>60   m²</td>\n",
              "      <td>Cambuci</td>\n",
              "      <td>Rua Professor Demóstenes Batista Figueira Marq...</td>\n",
              "    </tr>\n",
              "    <tr>\n",
              "      <th>2</th>\n",
              "      <td>R$ 2.400 /Mês</td>\n",
              "      <td>1   Quarto</td>\n",
              "      <td>Rua Cristiano Viana, 463 - Cerqueira César, Sã...</td>\n",
              "      <td>1   Banheiro</td>\n",
              "      <td>1   Vaga</td>\n",
              "      <td>45   m²</td>\n",
              "      <td>Cerqueira César</td>\n",
              "      <td>Rua Cristiano Viana, 463</td>\n",
              "    </tr>\n",
              "    <tr>\n",
              "      <th>3</th>\n",
              "      <td>R$ 1.900 /Mês</td>\n",
              "      <td>2   Quartos</td>\n",
              "      <td>Rua Afonso Pena, 560 - Bom Retiro, São Paulo - SP</td>\n",
              "      <td>1   Banheiro</td>\n",
              "      <td>1   Vaga</td>\n",
              "      <td>42   m²</td>\n",
              "      <td>Bom Retiro</td>\n",
              "      <td>Rua Afonso Pena, 560</td>\n",
              "    </tr>\n",
              "    <tr>\n",
              "      <th>4</th>\n",
              "      <td>R$ 1.900 /Mês</td>\n",
              "      <td>2   Quartos</td>\n",
              "      <td>Rua Araquém, 19 - Vila Mascote, São Paulo - SP</td>\n",
              "      <td>3   Banheiros</td>\n",
              "      <td>1   Vaga</td>\n",
              "      <td>84   m²</td>\n",
              "      <td>Vila Mascote</td>\n",
              "      <td>Rua Araquém, 19</td>\n",
              "    </tr>\n",
              "  </tbody>\n",
              "</table>\n",
              "</div>"
            ],
            "text/plain": [
              "              aluguel  ...                                                rua\n",
              "0     R$ 7.000 /Mês    ...                             Rua Volta Redonda, 757\n",
              "1     R$ 1.650 /Mês    ...  Rua Professor Demóstenes Batista Figueira Marq...\n",
              "2     R$ 2.400 /Mês    ...                           Rua Cristiano Viana, 463\n",
              "3     R$ 1.900 /Mês    ...                               Rua Afonso Pena, 560\n",
              "4     R$ 1.900 /Mês    ...                                    Rua Araquém, 19\n",
              "\n",
              "[5 rows x 8 columns]"
            ]
          },
          "metadata": {
            "tags": []
          },
          "execution_count": 4
        }
      ]
    },
    {
      "cell_type": "code",
      "metadata": {
        "id": "FPtfofI6Po4Q"
      },
      "source": [
        "all_columns = list(df)\n",
        "df[all_columns] = df[all_columns].astype(str)"
      ],
      "execution_count": 5,
      "outputs": []
    },
    {
      "cell_type": "code",
      "metadata": {
        "id": "jYFQIE8lPo4S"
      },
      "source": [
        "df['area'] = df['area'].str.extract('(.*) m²')"
      ],
      "execution_count": 6,
      "outputs": []
    },
    {
      "cell_type": "code",
      "metadata": {
        "id": "M9ST9tJCPo4S"
      },
      "source": [
        "df['vaga'] = df['vaga'].str.extract('(.*) Vaga')"
      ],
      "execution_count": 7,
      "outputs": []
    },
    {
      "cell_type": "code",
      "metadata": {
        "id": "NLQYT3NGPo4T",
        "colab": {
          "base_uri": "https://localhost:8080/",
          "height": 281
        },
        "outputId": "30d53901-7466-4fda-dcc6-d44de26c4b01"
      },
      "source": [
        "df['banheiro'] = df['banheiro'].str.extract('(.*) Banheiro')\n",
        "df['quartos'] = df['quartos'].str.extract('(.*) Quarto')\n",
        "df.head()"
      ],
      "execution_count": 8,
      "outputs": [
        {
          "output_type": "execute_result",
          "data": {
            "text/html": [
              "<div>\n",
              "<style scoped>\n",
              "    .dataframe tbody tr th:only-of-type {\n",
              "        vertical-align: middle;\n",
              "    }\n",
              "\n",
              "    .dataframe tbody tr th {\n",
              "        vertical-align: top;\n",
              "    }\n",
              "\n",
              "    .dataframe thead th {\n",
              "        text-align: right;\n",
              "    }\n",
              "</style>\n",
              "<table border=\"1\" class=\"dataframe\">\n",
              "  <thead>\n",
              "    <tr style=\"text-align: right;\">\n",
              "      <th></th>\n",
              "      <th>aluguel</th>\n",
              "      <th>quartos</th>\n",
              "      <th>endereco</th>\n",
              "      <th>banheiro</th>\n",
              "      <th>vaga</th>\n",
              "      <th>area</th>\n",
              "      <th>bairro</th>\n",
              "      <th>rua</th>\n",
              "    </tr>\n",
              "  </thead>\n",
              "  <tbody>\n",
              "    <tr>\n",
              "      <th>0</th>\n",
              "      <td>R$ 7.000 /Mês</td>\n",
              "      <td>2</td>\n",
              "      <td>Rua Volta Redonda, 757 - Campo Belo, São Paulo...</td>\n",
              "      <td>5</td>\n",
              "      <td>3</td>\n",
              "      <td>276</td>\n",
              "      <td>Campo Belo</td>\n",
              "      <td>Rua Volta Redonda, 757</td>\n",
              "    </tr>\n",
              "    <tr>\n",
              "      <th>1</th>\n",
              "      <td>R$ 1.650 /Mês</td>\n",
              "      <td>2</td>\n",
              "      <td>Rua Professor Demóstenes Batista Figueira Marq...</td>\n",
              "      <td>1</td>\n",
              "      <td>1</td>\n",
              "      <td>60</td>\n",
              "      <td>Cambuci</td>\n",
              "      <td>Rua Professor Demóstenes Batista Figueira Marq...</td>\n",
              "    </tr>\n",
              "    <tr>\n",
              "      <th>2</th>\n",
              "      <td>R$ 2.400 /Mês</td>\n",
              "      <td>1</td>\n",
              "      <td>Rua Cristiano Viana, 463 - Cerqueira César, Sã...</td>\n",
              "      <td>1</td>\n",
              "      <td>1</td>\n",
              "      <td>45</td>\n",
              "      <td>Cerqueira César</td>\n",
              "      <td>Rua Cristiano Viana, 463</td>\n",
              "    </tr>\n",
              "    <tr>\n",
              "      <th>3</th>\n",
              "      <td>R$ 1.900 /Mês</td>\n",
              "      <td>2</td>\n",
              "      <td>Rua Afonso Pena, 560 - Bom Retiro, São Paulo - SP</td>\n",
              "      <td>1</td>\n",
              "      <td>1</td>\n",
              "      <td>42</td>\n",
              "      <td>Bom Retiro</td>\n",
              "      <td>Rua Afonso Pena, 560</td>\n",
              "    </tr>\n",
              "    <tr>\n",
              "      <th>4</th>\n",
              "      <td>R$ 1.900 /Mês</td>\n",
              "      <td>2</td>\n",
              "      <td>Rua Araquém, 19 - Vila Mascote, São Paulo - SP</td>\n",
              "      <td>3</td>\n",
              "      <td>1</td>\n",
              "      <td>84</td>\n",
              "      <td>Vila Mascote</td>\n",
              "      <td>Rua Araquém, 19</td>\n",
              "    </tr>\n",
              "  </tbody>\n",
              "</table>\n",
              "</div>"
            ],
            "text/plain": [
              "              aluguel  ...                                                rua\n",
              "0     R$ 7.000 /Mês    ...                             Rua Volta Redonda, 757\n",
              "1     R$ 1.650 /Mês    ...  Rua Professor Demóstenes Batista Figueira Marq...\n",
              "2     R$ 2.400 /Mês    ...                           Rua Cristiano Viana, 463\n",
              "3     R$ 1.900 /Mês    ...                               Rua Afonso Pena, 560\n",
              "4     R$ 1.900 /Mês    ...                                    Rua Araquém, 19\n",
              "\n",
              "[5 rows x 8 columns]"
            ]
          },
          "metadata": {
            "tags": []
          },
          "execution_count": 8
        }
      ]
    },
    {
      "cell_type": "code",
      "metadata": {
        "id": "VW_AmfkSPo4W",
        "colab": {
          "base_uri": "https://localhost:8080/",
          "height": 264
        },
        "outputId": "43f4a67a-2b92-4e57-f0e9-0cd9a4b0b242"
      },
      "source": [
        "df['aluguel'] = df['aluguel'].str.extract('R\\$ (.*) /Mês')\n",
        "df['aluguel'] = df['aluguel'].replace('\\.', '', regex=True)\n",
        "df.head()"
      ],
      "execution_count": 9,
      "outputs": [
        {
          "output_type": "execute_result",
          "data": {
            "text/html": [
              "<div>\n",
              "<style scoped>\n",
              "    .dataframe tbody tr th:only-of-type {\n",
              "        vertical-align: middle;\n",
              "    }\n",
              "\n",
              "    .dataframe tbody tr th {\n",
              "        vertical-align: top;\n",
              "    }\n",
              "\n",
              "    .dataframe thead th {\n",
              "        text-align: right;\n",
              "    }\n",
              "</style>\n",
              "<table border=\"1\" class=\"dataframe\">\n",
              "  <thead>\n",
              "    <tr style=\"text-align: right;\">\n",
              "      <th></th>\n",
              "      <th>aluguel</th>\n",
              "      <th>quartos</th>\n",
              "      <th>endereco</th>\n",
              "      <th>banheiro</th>\n",
              "      <th>vaga</th>\n",
              "      <th>area</th>\n",
              "      <th>bairro</th>\n",
              "      <th>rua</th>\n",
              "    </tr>\n",
              "  </thead>\n",
              "  <tbody>\n",
              "    <tr>\n",
              "      <th>0</th>\n",
              "      <td>7000</td>\n",
              "      <td>2</td>\n",
              "      <td>Rua Volta Redonda, 757 - Campo Belo, São Paulo...</td>\n",
              "      <td>5</td>\n",
              "      <td>3</td>\n",
              "      <td>276</td>\n",
              "      <td>Campo Belo</td>\n",
              "      <td>Rua Volta Redonda, 757</td>\n",
              "    </tr>\n",
              "    <tr>\n",
              "      <th>1</th>\n",
              "      <td>1650</td>\n",
              "      <td>2</td>\n",
              "      <td>Rua Professor Demóstenes Batista Figueira Marq...</td>\n",
              "      <td>1</td>\n",
              "      <td>1</td>\n",
              "      <td>60</td>\n",
              "      <td>Cambuci</td>\n",
              "      <td>Rua Professor Demóstenes Batista Figueira Marq...</td>\n",
              "    </tr>\n",
              "    <tr>\n",
              "      <th>2</th>\n",
              "      <td>2400</td>\n",
              "      <td>1</td>\n",
              "      <td>Rua Cristiano Viana, 463 - Cerqueira César, Sã...</td>\n",
              "      <td>1</td>\n",
              "      <td>1</td>\n",
              "      <td>45</td>\n",
              "      <td>Cerqueira César</td>\n",
              "      <td>Rua Cristiano Viana, 463</td>\n",
              "    </tr>\n",
              "    <tr>\n",
              "      <th>3</th>\n",
              "      <td>1900</td>\n",
              "      <td>2</td>\n",
              "      <td>Rua Afonso Pena, 560 - Bom Retiro, São Paulo - SP</td>\n",
              "      <td>1</td>\n",
              "      <td>1</td>\n",
              "      <td>42</td>\n",
              "      <td>Bom Retiro</td>\n",
              "      <td>Rua Afonso Pena, 560</td>\n",
              "    </tr>\n",
              "    <tr>\n",
              "      <th>4</th>\n",
              "      <td>1900</td>\n",
              "      <td>2</td>\n",
              "      <td>Rua Araquém, 19 - Vila Mascote, São Paulo - SP</td>\n",
              "      <td>3</td>\n",
              "      <td>1</td>\n",
              "      <td>84</td>\n",
              "      <td>Vila Mascote</td>\n",
              "      <td>Rua Araquém, 19</td>\n",
              "    </tr>\n",
              "  </tbody>\n",
              "</table>\n",
              "</div>"
            ],
            "text/plain": [
              "  aluguel  ...                                                rua\n",
              "0    7000  ...                             Rua Volta Redonda, 757\n",
              "1    1650  ...  Rua Professor Demóstenes Batista Figueira Marq...\n",
              "2    2400  ...                           Rua Cristiano Viana, 463\n",
              "3    1900  ...                               Rua Afonso Pena, 560\n",
              "4    1900  ...                                    Rua Araquém, 19\n",
              "\n",
              "[5 rows x 8 columns]"
            ]
          },
          "metadata": {
            "tags": []
          },
          "execution_count": 9
        }
      ]
    },
    {
      "cell_type": "code",
      "metadata": {
        "id": "vwzY5BZHrYEJ"
      },
      "source": [
        "df = df.drop_duplicates(subset=['endereco','aluguel'], keep='first', inplace=False)"
      ],
      "execution_count": 10,
      "outputs": []
    },
    {
      "cell_type": "code",
      "metadata": {
        "id": "jnMAMds7rYEJ",
        "colab": {
          "base_uri": "https://localhost:8080/"
        },
        "outputId": "d8634575-eca0-4617-854b-a1af7e2686d6"
      },
      "source": [
        "df.shape"
      ],
      "execution_count": 11,
      "outputs": [
        {
          "output_type": "execute_result",
          "data": {
            "text/plain": [
              "(1098, 8)"
            ]
          },
          "metadata": {
            "tags": []
          },
          "execution_count": 11
        }
      ]
    },
    {
      "cell_type": "code",
      "metadata": {
        "id": "D0GwA1BYrYEJ"
      },
      "source": [
        "df.to_csv('aluguel_dadoslimpos.csv')"
      ],
      "execution_count": 12,
      "outputs": []
    },
    {
      "cell_type": "code",
      "metadata": {
        "id": "Locue_TkPo4X"
      },
      "source": [
        "nova = df.columns.drop(['endereco','bairro','rua'])"
      ],
      "execution_count": 14,
      "outputs": []
    },
    {
      "cell_type": "code",
      "metadata": {
        "id": "Hlpnin8zPo4Y"
      },
      "source": [
        "df[nova] = df[nova].apply(pd.to_numeric, errors='coerce')"
      ],
      "execution_count": 15,
      "outputs": []
    },
    {
      "cell_type": "code",
      "metadata": {
        "id": "UREwUIc0Po4Z",
        "colab": {
          "base_uri": "https://localhost:8080/",
          "height": 287
        },
        "outputId": "cf965560-e234-4561-b2af-2c0e740d3f80"
      },
      "source": [
        "df.describe()"
      ],
      "execution_count": 16,
      "outputs": [
        {
          "output_type": "execute_result",
          "data": {
            "text/html": [
              "<div>\n",
              "<style scoped>\n",
              "    .dataframe tbody tr th:only-of-type {\n",
              "        vertical-align: middle;\n",
              "    }\n",
              "\n",
              "    .dataframe tbody tr th {\n",
              "        vertical-align: top;\n",
              "    }\n",
              "\n",
              "    .dataframe thead th {\n",
              "        text-align: right;\n",
              "    }\n",
              "</style>\n",
              "<table border=\"1\" class=\"dataframe\">\n",
              "  <thead>\n",
              "    <tr style=\"text-align: right;\">\n",
              "      <th></th>\n",
              "      <th>aluguel</th>\n",
              "      <th>quartos</th>\n",
              "      <th>banheiro</th>\n",
              "      <th>vaga</th>\n",
              "      <th>area</th>\n",
              "    </tr>\n",
              "  </thead>\n",
              "  <tbody>\n",
              "    <tr>\n",
              "      <th>count</th>\n",
              "      <td>1098.000000</td>\n",
              "      <td>1068.000000</td>\n",
              "      <td>1091.000000</td>\n",
              "      <td>891.000000</td>\n",
              "      <td>1098.000000</td>\n",
              "    </tr>\n",
              "    <tr>\n",
              "      <th>mean</th>\n",
              "      <td>7412.638434</td>\n",
              "      <td>2.441011</td>\n",
              "      <td>2.597617</td>\n",
              "      <td>2.815937</td>\n",
              "      <td>191.764117</td>\n",
              "    </tr>\n",
              "    <tr>\n",
              "      <th>std</th>\n",
              "      <td>11628.341855</td>\n",
              "      <td>1.336280</td>\n",
              "      <td>1.858369</td>\n",
              "      <td>3.373694</td>\n",
              "      <td>243.575785</td>\n",
              "    </tr>\n",
              "    <tr>\n",
              "      <th>min</th>\n",
              "      <td>500.000000</td>\n",
              "      <td>1.000000</td>\n",
              "      <td>1.000000</td>\n",
              "      <td>1.000000</td>\n",
              "      <td>0.000000</td>\n",
              "    </tr>\n",
              "    <tr>\n",
              "      <th>25%</th>\n",
              "      <td>1864.000000</td>\n",
              "      <td>1.000000</td>\n",
              "      <td>1.000000</td>\n",
              "      <td>1.000000</td>\n",
              "      <td>45.000000</td>\n",
              "    </tr>\n",
              "    <tr>\n",
              "      <th>50%</th>\n",
              "      <td>3275.000000</td>\n",
              "      <td>2.000000</td>\n",
              "      <td>2.000000</td>\n",
              "      <td>2.000000</td>\n",
              "      <td>94.500000</td>\n",
              "    </tr>\n",
              "    <tr>\n",
              "      <th>75%</th>\n",
              "      <td>8000.000000</td>\n",
              "      <td>3.000000</td>\n",
              "      <td>4.000000</td>\n",
              "      <td>4.000000</td>\n",
              "      <td>250.000000</td>\n",
              "    </tr>\n",
              "    <tr>\n",
              "      <th>max</th>\n",
              "      <td>110000.000000</td>\n",
              "      <td>11.000000</td>\n",
              "      <td>11.000000</td>\n",
              "      <td>40.000000</td>\n",
              "      <td>2000.000000</td>\n",
              "    </tr>\n",
              "  </tbody>\n",
              "</table>\n",
              "</div>"
            ],
            "text/plain": [
              "             aluguel      quartos     banheiro        vaga         area\n",
              "count    1098.000000  1068.000000  1091.000000  891.000000  1098.000000\n",
              "mean     7412.638434     2.441011     2.597617    2.815937   191.764117\n",
              "std     11628.341855     1.336280     1.858369    3.373694   243.575785\n",
              "min       500.000000     1.000000     1.000000    1.000000     0.000000\n",
              "25%      1864.000000     1.000000     1.000000    1.000000    45.000000\n",
              "50%      3275.000000     2.000000     2.000000    2.000000    94.500000\n",
              "75%      8000.000000     3.000000     4.000000    4.000000   250.000000\n",
              "max    110000.000000    11.000000    11.000000   40.000000  2000.000000"
            ]
          },
          "metadata": {
            "tags": []
          },
          "execution_count": 16
        }
      ]
    },
    {
      "cell_type": "code",
      "metadata": {
        "id": "P4Fsm1x4Po4b",
        "colab": {
          "base_uri": "https://localhost:8080/"
        },
        "outputId": "53f14511-b5c5-44e7-b63d-8fe213d00cef"
      },
      "source": [
        "df.isnull().sum()"
      ],
      "execution_count": 17,
      "outputs": [
        {
          "output_type": "execute_result",
          "data": {
            "text/plain": [
              "aluguel       0\n",
              "quartos      30\n",
              "endereco      0\n",
              "banheiro      7\n",
              "vaga        207\n",
              "area          0\n",
              "bairro        0\n",
              "rua           0\n",
              "dtype: int64"
            ]
          },
          "metadata": {
            "tags": []
          },
          "execution_count": 17
        }
      ]
    },
    {
      "cell_type": "code",
      "metadata": {
        "id": "OoEi1FicPo4b",
        "colab": {
          "base_uri": "https://localhost:8080/"
        },
        "outputId": "a641df98-bbcf-4206-9c04-fde61cc994ff"
      },
      "source": [
        "df = df.fillna(0)\n",
        "df.isnull().sum()"
      ],
      "execution_count": 18,
      "outputs": [
        {
          "output_type": "execute_result",
          "data": {
            "text/plain": [
              "aluguel     0\n",
              "quartos     0\n",
              "endereco    0\n",
              "banheiro    0\n",
              "vaga        0\n",
              "area        0\n",
              "bairro      0\n",
              "rua         0\n",
              "dtype: int64"
            ]
          },
          "metadata": {
            "tags": []
          },
          "execution_count": 18
        }
      ]
    },
    {
      "cell_type": "code",
      "metadata": {
        "id": "JRSvIvoerYEP",
        "colab": {
          "base_uri": "https://localhost:8080/",
          "height": 282
        },
        "outputId": "fc240ba9-f132-4806-f2e0-95f2f761356f"
      },
      "source": [
        "df.aluguel.hist()"
      ],
      "execution_count": 19,
      "outputs": [
        {
          "output_type": "execute_result",
          "data": {
            "text/plain": [
              "<matplotlib.axes._subplots.AxesSubplot at 0x7f97ad1820d0>"
            ]
          },
          "metadata": {
            "tags": []
          },
          "execution_count": 19
        },
        {
          "output_type": "display_data",
          "data": {
            "image/png": "[encoded data removed]",
            "text/plain": [
              "<Figure size 432x288 with 1 Axes>"
            ]
          },
          "metadata": {
            "tags": [],
            "needs_background": "light"
          }
        }
      ]
    },
    {
      "cell_type": "code",
      "metadata": {
        "id": "NzZPVmeHPo4c",
        "colab": {
          "base_uri": "https://localhost:8080/",
          "height": 334
        },
        "outputId": "b95bce0f-ad04-4eff-ad4b-56e0b62cdb91"
      },
      "source": [
        "import seaborn as sns\n",
        "sns.distplot(df['aluguel']);"
      ],
      "execution_count": 20,
      "outputs": [
        {
          "output_type": "stream",
          "text": [
            "/usr/local/lib/python3.7/dist-packages/seaborn/distributions.py:2557: FutureWarning: `distplot` is a deprecated function and will be removed in a future version. Please adapt your code to use either `displot` (a figure-level function with similar flexibility) or `histplot` (an axes-level function for histograms).\n",
            "  warnings.warn(msg, FutureWarning)\n"
          ],
          "name": "stderr"
        },
        {
          "output_type": "display_data",
          "data": {
            "image/png": "[encoded data removed]",
            "text/plain": [
              "<Figure size 432x288 with 1 Axes>"
            ]
          },
          "metadata": {
            "tags": [],
            "needs_background": "light"
          }
        }
      ]
    },
    {
      "cell_type": "code",
      "metadata": {
        "id": "H8O7JPydPo4d",
        "colab": {
          "base_uri": "https://localhost:8080/",
          "height": 282
        },
        "outputId": "1a865fe2-8f96-4f93-cac5-a12fe649e514"
      },
      "source": [
        "sns.boxplot(data = df['aluguel'], orient='horizontal')"
      ],
      "execution_count": 21,
      "outputs": [
        {
          "output_type": "execute_result",
          "data": {
            "text/plain": [
              "<matplotlib.axes._subplots.AxesSubplot at 0x7f97ad125410>"
            ]
          },
          "metadata": {
            "tags": []
          },
          "execution_count": 21
        },
        {
          "output_type": "display_data",
          "data": {
            "image/png": "[encoded data removed]",
            "text/plain": [
              "<Figure size 432x288 with 1 Axes>"
            ]
          },
          "metadata": {
            "tags": [],
            "needs_background": "light"
          }
        }
      ]
    },
    {
      "cell_type": "code",
      "metadata": {
        "id": "vSZNSHAhPo4d",
        "colab": {
          "base_uri": "https://localhost:8080/",
          "height": 405
        },
        "outputId": "0499bcb0-7c0a-4332-b059-510d65439097"
      },
      "source": [
        "import matplotlib.pyplot as plt\n",
        "plt.figure(figsize=(10, 6))\n",
        "plt.scatter(df['area'], df['aluguel'], alpha=0.2)\n",
        "#x = [0, 400, 1000]\n",
        "#y = [0, 10000, 20000]\n",
        "#plt.plot(x, y, c='r')\n",
        "plt.xlabel('Área')\n",
        "plt.ylabel('Aluguel')"
      ],
      "execution_count": 22,
      "outputs": [
        {
          "output_type": "execute_result",
          "data": {
            "text/plain": [
              "Text(0, 0.5, 'Aluguel')"
            ]
          },
          "metadata": {
            "tags": []
          },
          "execution_count": 22
        },
        {
          "output_type": "display_data",
          "data": {
            "image/png": "[encoded data removed]",
            "text/plain": [
              "<Figure size 720x432 with 1 Axes>"
            ]
          },
          "metadata": {
            "tags": [],
            "needs_background": "light"
          }
        }
      ]
    },
    {
      "cell_type": "code",
      "metadata": {
        "id": "f7q_8wL3rYET",
        "colab": {
          "base_uri": "https://localhost:8080/",
          "height": 197
        },
        "outputId": "31c33806-bc31-494b-e52e-c5960d3445a4"
      },
      "source": [
        "df.corr()"
      ],
      "execution_count": 23,
      "outputs": [
        {
          "output_type": "execute_result",
          "data": {
            "text/html": [
              "<div>\n",
              "<style scoped>\n",
              "    .dataframe tbody tr th:only-of-type {\n",
              "        vertical-align: middle;\n",
              "    }\n",
              "\n",
              "    .dataframe tbody tr th {\n",
              "        vertical-align: top;\n",
              "    }\n",
              "\n",
              "    .dataframe thead th {\n",
              "        text-align: right;\n",
              "    }\n",
              "</style>\n",
              "<table border=\"1\" class=\"dataframe\">\n",
              "  <thead>\n",
              "    <tr style=\"text-align: right;\">\n",
              "      <th></th>\n",
              "      <th>aluguel</th>\n",
              "      <th>quartos</th>\n",
              "      <th>banheiro</th>\n",
              "      <th>vaga</th>\n",
              "      <th>area</th>\n",
              "    </tr>\n",
              "  </thead>\n",
              "  <tbody>\n",
              "    <tr>\n",
              "      <th>aluguel</th>\n",
              "      <td>1.000000</td>\n",
              "      <td>0.489941</td>\n",
              "      <td>0.613367</td>\n",
              "      <td>0.495619</td>\n",
              "      <td>0.724069</td>\n",
              "    </tr>\n",
              "    <tr>\n",
              "      <th>quartos</th>\n",
              "      <td>0.489941</td>\n",
              "      <td>1.000000</td>\n",
              "      <td>0.732924</td>\n",
              "      <td>0.455138</td>\n",
              "      <td>0.595079</td>\n",
              "    </tr>\n",
              "    <tr>\n",
              "      <th>banheiro</th>\n",
              "      <td>0.613367</td>\n",
              "      <td>0.732924</td>\n",
              "      <td>1.000000</td>\n",
              "      <td>0.529569</td>\n",
              "      <td>0.686052</td>\n",
              "    </tr>\n",
              "    <tr>\n",
              "      <th>vaga</th>\n",
              "      <td>0.495619</td>\n",
              "      <td>0.455138</td>\n",
              "      <td>0.529569</td>\n",
              "      <td>1.000000</td>\n",
              "      <td>0.564135</td>\n",
              "    </tr>\n",
              "    <tr>\n",
              "      <th>area</th>\n",
              "      <td>0.724069</td>\n",
              "      <td>0.595079</td>\n",
              "      <td>0.686052</td>\n",
              "      <td>0.564135</td>\n",
              "      <td>1.000000</td>\n",
              "    </tr>\n",
              "  </tbody>\n",
              "</table>\n",
              "</div>"
            ],
            "text/plain": [
              "           aluguel   quartos  banheiro      vaga      area\n",
              "aluguel   1.000000  0.489941  0.613367  0.495619  0.724069\n",
              "quartos   0.489941  1.000000  0.732924  0.455138  0.595079\n",
              "banheiro  0.613367  0.732924  1.000000  0.529569  0.686052\n",
              "vaga      0.495619  0.455138  0.529569  1.000000  0.564135\n",
              "area      0.724069  0.595079  0.686052  0.564135  1.000000"
            ]
          },
          "metadata": {
            "tags": []
          },
          "execution_count": 23
        }
      ]
    },
    {
      "cell_type": "code",
      "metadata": {
        "id": "9vzJX3EXnVzJ"
      },
      "source": [
        "centro = ['Centro','Bela Vista','Bom Retiro','Cambuci','Consolação',\n",
        "          'Higienópolis','Liberdade','República','Santa Cecília','Sé','Paraíso','Santa Efigênia',\n",
        "         'Aclimação','Campos Eliseos','Campos Elíseos','Cerqueira César']\n",
        "norte = ['Norte','Anhanguera','Brasilândia','Casa Verde','Cachoeirinha','Freguesia do Ó','Jaçanã','Jaraguá',\n",
        "    'Limão','Mandaqui','Perus','Pirituba','Santana','São Domingos','Tremembé','Tucuruvi','Vila Maria',\n",
        "    'Vila Medeiros','Vila Guilherme','Jardim Peri Peri']\n",
        "sul = ['Sul','Campo Belo','Campo Limpo','Capão Redondo','Cidade Ademar','Cidade Dutra','Cursino','Grajaú',\n",
        "    'Itaim Bibi','Ipiranga','Jabaquara' ,'Jardim Ângela' ,'Jardim São Luís','Marsilac', 'Moema',\n",
        "    'Moema Pássaros','Moema Índios','Morumbi','Parelheiros','Pedreira','Sacomã' ,\n",
        "    'Santo Amaro','Socorro','Saúde','Vila Andrade','Vila Mariana','Vila Olímpia','Vila Mascote','Brooklin',\n",
        "       'Brooklin Novo','Brooklin Paulista','Cidade das Monções','Cidade Monções','Jardins','Vila Nova Conceição']\n",
        "leste = ['Leste','Água Rasa','Aricanduva','Artur Alvim','Belém','Brás','Cangaíba','Carrão','Cidade Líder',\n",
        "    'Cidade Tiradentes','Ermelino Matarazzo','Guaianases','Itaim Paulista','Itaquera',\n",
        "    'Jardim Helena','José Bonifácio','Lajeado','Mooca','Pari','Parque do Carmo','Penha',\n",
        "    'Ponte Rasa','São Lucas','São Mateus','São Miguel','São Rafael','Sapopemba','Tatuapé',\n",
        "    'Vila Curuçá','Vila Formosa','Vila Jacuí','Vila Matilde','Vila Prudente','Mooca','Tatuapé','Carandiru','Mirandópolis']\n",
        "oeste = ['Oeste','Alto de Pinheiros','Barra Funda','Butantã','Jaguará','Jardim Paulista','Jardim Paulistano',\n",
        "    'Jardim Europa','Jardim América','Lapa','Morumbi','Perdizes','Pinheiros','Raposo Tavares','Rio Pequeno'\n",
        "    'Vila Leopoldina','Vila Madalena','Vila Sônia','Sumarezinho','Sumaré','Boaçava','Jardim das Vertentes',\n",
        "        'Rio Pequeno','Vila Leopoldina','Panamby','Jardim Monte Kemel','Pompeia']\n",
        "nenhuma = ['nenhuma']"
      ],
      "execution_count": 26,
      "outputs": []
    },
    {
      "cell_type": "code",
      "metadata": {
        "id": "lLsYY7k8rYEW"
      },
      "source": [
        "bairros = nenhuma + sul + oeste + norte + sul + centro + leste"
      ],
      "execution_count": 27,
      "outputs": []
    },
    {
      "cell_type": "code",
      "metadata": {
        "id": "w_PCDsTjrYEX"
      },
      "source": [
        "def checarN_zona(df,lista):\n",
        "    df = df[~df.endereco.str.contains('|'.join(bairros))]\n",
        "    df['zona'] = str(lista[0])\n",
        "    return df"
      ],
      "execution_count": 28,
      "outputs": []
    },
    {
      "cell_type": "code",
      "metadata": {
        "id": "12TbmjZArYEX",
        "colab": {
          "base_uri": "https://localhost:8080/"
        },
        "outputId": "6ec45a77-ab14-4b28-b13a-9a35f019ac17"
      },
      "source": [
        "dff = checarN_zona(df,bairros)"
      ],
      "execution_count": 30,
      "outputs": [
        {
          "output_type": "stream",
          "text": [
            "/usr/local/lib/python3.7/dist-packages/ipykernel_launcher.py:3: SettingWithCopyWarning: \n",
            "A value is trying to be set on a copy of a slice from a DataFrame.\n",
            "Try using .loc[row_indexer,col_indexer] = value instead\n",
            "\n",
            "See the caveats in the documentation: https://pandas.pydata.org/pandas-docs/stable/user_guide/indexing.html#returning-a-view-versus-a-copy\n",
            "  This is separate from the ipykernel package so we can avoid doing imports until\n"
          ],
          "name": "stderr"
        }
      ]
    },
    {
      "cell_type": "code",
      "metadata": {
        "id": "ZvXK6PZbrYEY"
      },
      "source": [
        "def checar_zona(df,lista):\n",
        "    df = df[df.endereco.str.contains('|'.join(lista))]\n",
        "    df['zona'] = str(lista[0])\n",
        "    return df"
      ],
      "execution_count": 31,
      "outputs": []
    },
    {
      "cell_type": "code",
      "metadata": {
        "id": "f9vYlo0RrYEZ",
        "colab": {
          "base_uri": "https://localhost:8080/"
        },
        "outputId": "72a91a33-26ee-421a-9b85-fc34fd3d5b94"
      },
      "source": [
        "df_1 = checar_zona(df,oeste)\n",
        "df_1.shape"
      ],
      "execution_count": 32,
      "outputs": [
        {
          "output_type": "stream",
          "text": [
            "/usr/local/lib/python3.7/dist-packages/ipykernel_launcher.py:3: SettingWithCopyWarning: \n",
            "A value is trying to be set on a copy of a slice from a DataFrame.\n",
            "Try using .loc[row_indexer,col_indexer] = value instead\n",
            "\n",
            "See the caveats in the documentation: https://pandas.pydata.org/pandas-docs/stable/user_guide/indexing.html#returning-a-view-versus-a-copy\n",
            "  This is separate from the ipykernel package so we can avoid doing imports until\n"
          ],
          "name": "stderr"
        },
        {
          "output_type": "execute_result",
          "data": {
            "text/plain": [
              "(223, 9)"
            ]
          },
          "metadata": {
            "tags": []
          },
          "execution_count": 32
        }
      ]
    },
    {
      "cell_type": "code",
      "metadata": {
        "id": "HVZjWt1LrYEZ",
        "colab": {
          "base_uri": "https://localhost:8080/"
        },
        "outputId": "854b66e0-3ee4-495e-cc64-5dbea77aea21"
      },
      "source": [
        "df2 = checar_zona(df,sul)\n",
        "df3 = checar_zona(df,leste)\n",
        "df4 = checar_zona(df,centro)\n",
        "df5 = checar_zona(df,norte)"
      ],
      "execution_count": 33,
      "outputs": [
        {
          "output_type": "stream",
          "text": [
            "/usr/local/lib/python3.7/dist-packages/ipykernel_launcher.py:3: SettingWithCopyWarning: \n",
            "A value is trying to be set on a copy of a slice from a DataFrame.\n",
            "Try using .loc[row_indexer,col_indexer] = value instead\n",
            "\n",
            "See the caveats in the documentation: https://pandas.pydata.org/pandas-docs/stable/user_guide/indexing.html#returning-a-view-versus-a-copy\n",
            "  This is separate from the ipykernel package so we can avoid doing imports until\n"
          ],
          "name": "stderr"
        }
      ]
    },
    {
      "cell_type": "code",
      "metadata": {
        "id": "KwE4uogwrYEa"
      },
      "source": [
        "df_concat = pd.concat([df_1,df2,df3,df4,df5,df7])"
      ],
      "execution_count": 35,
      "outputs": []
    },
    {
      "cell_type": "code",
      "metadata": {
        "id": "R2dUJrgErYEa",
        "colab": {
          "base_uri": "https://localhost:8080/"
        },
        "outputId": "bebad0f7-f4ec-4137-e91b-ea5be4e66a6f"
      },
      "source": [
        "df_concat.shape"
      ],
      "execution_count": 36,
      "outputs": [
        {
          "output_type": "execute_result",
          "data": {
            "text/plain": [
              "(1173, 9)"
            ]
          },
          "metadata": {
            "tags": []
          },
          "execution_count": 36
        }
      ]
    },
    {
      "cell_type": "code",
      "metadata": {
        "id": "7UV7c85QrYEb"
      },
      "source": [
        "df_final = df_concat.drop_duplicates(subset=['endereco','aluguel'], keep='last', inplace=False)"
      ],
      "execution_count": 37,
      "outputs": []
    },
    {
      "cell_type": "code",
      "metadata": {
        "id": "jOUr9wDArYEb",
        "colab": {
          "base_uri": "https://localhost:8080/"
        },
        "outputId": "5c7adeb1-f280-4eb4-e512-f9b1c6ea3cea"
      },
      "source": [
        "df_final.shape"
      ],
      "execution_count": 38,
      "outputs": [
        {
          "output_type": "execute_result",
          "data": {
            "text/plain": [
              "(1098, 9)"
            ]
          },
          "metadata": {
            "tags": []
          },
          "execution_count": 38
        }
      ]
    },
    {
      "cell_type": "code",
      "metadata": {
        "id": "fEI-EUymrYEd",
        "colab": {
          "base_uri": "https://localhost:8080/",
          "height": 296
        },
        "outputId": "157498f4-43c2-4dbc-d81e-a066ee46053d"
      },
      "source": [
        "sns.boxplot(x='zona', y='aluguel', data=df_final)"
      ],
      "execution_count": 39,
      "outputs": [
        {
          "output_type": "execute_result",
          "data": {
            "text/plain": [
              "<matplotlib.axes._subplots.AxesSubplot at 0x7f9793525150>"
            ]
          },
          "metadata": {
            "tags": []
          },
          "execution_count": 39
        },
        {
          "output_type": "display_data",
          "data": {
            "image/png": "[encoded data removed]",
            "text/plain": [
              "<Figure size 432x288 with 1 Axes>"
            ]
          },
          "metadata": {
            "tags": [],
            "needs_background": "light"
          }
        }
      ]
    },
    {
      "cell_type": "code",
      "metadata": {
        "id": "jIn-mVS9rYEd"
      },
      "source": [
        ""
      ],
      "execution_count": null,
      "outputs": []
    }
  ]
}